{
  "nbformat": 4,
  "nbformat_minor": 0,
  "metadata": {
    "colab": {
      "name": "Soal-No3.ipynb",
      "provenance": []
    },
    "kernelspec": {
      "name": "python3",
      "display_name": "Python 3"
    },
    "language_info": {
      "name": "python"
    }
  },
  "cells": [
    {
      "cell_type": "code",
      "execution_count": 1,
      "metadata": {
        "id": "QaDknGjenv-q"
      },
      "outputs": [],
      "source": [
        "from sklearn.neighbors import KNeighborsClassifier"
      ]
    },
    {
      "cell_type": "code",
      "source": [
        "Demam=[1,2,3,3,2,1,2]   # 1=Tidak 2=Sedang 3=Tinggi\n",
        "Muntah=[1,1,1,2,1,2,2]  # 1=Tidak 2=Ya\n",
        "Diare=[1,1,1,2,2,2,2]   # 1=Tidak 2=Ya\n",
        "Gemetar=[1,1,2,1,1,1,1] # 1=Tidak 2=Ya\n",
        "Kondisi=['Sehat','Influenza','Influenza','Tifus','Tifus','Radang Usus','Radang Usus']"
      ],
      "metadata": {
        "id": "daaUyCnaoazl"
      },
      "execution_count": 9,
      "outputs": []
    },
    {
      "cell_type": "code",
      "source": [
        "features=list(zip(Demam,Muntah,Diare,Gemetar))\n",
        "print(features)"
      ],
      "metadata": {
        "colab": {
          "base_uri": "https://localhost:8080/"
        },
        "id": "I_hseTAMq2SE",
        "outputId": "08c0baf8-c832-4a07-bd48-90dde08ee133"
      },
      "execution_count": 10,
      "outputs": [
        {
          "output_type": "stream",
          "name": "stdout",
          "text": [
            "[(1, 1, 1, 1), (2, 1, 1, 1), (3, 1, 1, 2), (3, 2, 2, 1), (2, 1, 2, 1), (1, 2, 2, 1), (2, 2, 2, 1)]\n"
          ]
        }
      ]
    },
    {
      "cell_type": "code",
      "source": [
        "knn=KNeighborsClassifier(n_neighbors=3)\n",
        "knn.fit(features,Kondisi)"
      ],
      "metadata": {
        "colab": {
          "base_uri": "https://localhost:8080/"
        },
        "id": "EABQOCNAraar",
        "outputId": "bfe2abca-775e-4429-c388-a6b18f2e63b4"
      },
      "execution_count": 11,
      "outputs": [
        {
          "output_type": "execute_result",
          "data": {
            "text/plain": [
              "KNeighborsClassifier(n_neighbors=3)"
            ]
          },
          "metadata": {},
          "execution_count": 11
        }
      ]
    },
    {
      "cell_type": "code",
      "source": [
        "#prediksi 3,2,1,2\n",
        "y_pred=knn.predict([[3,2,1,2]])\n",
        "print(y_pred)"
      ],
      "metadata": {
        "colab": {
          "base_uri": "https://localhost:8080/"
        },
        "id": "57UVphQPsyl0",
        "outputId": "5626c593-e63c-470c-acd2-ecdccf8d1839"
      },
      "execution_count": 12,
      "outputs": [
        {
          "output_type": "stream",
          "name": "stdout",
          "text": [
            "['Influenza']\n"
          ]
        }
      ]
    }
  ]
}