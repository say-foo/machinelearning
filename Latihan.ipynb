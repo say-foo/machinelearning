{
  "nbformat": 4,
  "nbformat_minor": 0,
  "metadata": {
    "colab": {
      "name": "Latihan.ipynb",
      "provenance": []
    },
    "kernelspec": {
      "name": "python3",
      "display_name": "Python 3"
    },
    "language_info": {
      "name": "python"
    }
  },
  "cells": [
    {
      "cell_type": "markdown",
      "metadata": {
        "id": "FHdh6Jcjdna8"
      },
      "source": [
        "**LATIHAN**"
      ]
    },
    {
      "cell_type": "code",
      "metadata": {
        "id": "GU5xbG7YSQTT"
      },
      "source": [
        "import numpy as np"
      ],
      "execution_count": 1,
      "outputs": []
    },
    {
      "cell_type": "markdown",
      "metadata": {
        "id": "dNXU9FyCUUtx"
      },
      "source": [
        "\n",
        "\n",
        "---\n",
        "\n",
        "\n",
        "1. Buatlah array 2d berikut menggunakan numpy\n",
        "\n",
        "\n",
        "\n"
      ]
    },
    {
      "cell_type": "code",
      "metadata": {
        "colab": {
          "base_uri": "https://localhost:8080/"
        },
        "id": "TiP8RbuNTyG_",
        "outputId": "e4c64401-c04f-4d9d-eb3b-35ace55564e5"
      },
      "source": [
        "a = np.array([[4,4,5],[7,6,4],[9,7,4],[6,3,7]])\n",
        "print(a)"
      ],
      "execution_count": 8,
      "outputs": [
        {
          "output_type": "stream",
          "name": "stdout",
          "text": [
            "[[4 4 5]\n",
            " [7 6 4]\n",
            " [9 7 4]\n",
            " [6 3 7]]\n"
          ]
        }
      ]
    },
    {
      "cell_type": "markdown",
      "metadata": {
        "id": "Cz28B37Bdb7H"
      },
      "source": [
        "\n",
        "\n",
        "---\n",
        "2. Buatlah array 3d berikut menggunakan numpy\n",
        "\n"
      ]
    },
    {
      "cell_type": "code",
      "metadata": {
        "colab": {
          "base_uri": "https://localhost:8080/"
        },
        "id": "cYkGvcGqejWK",
        "outputId": "3ea3a839-034e-4bbb-ffbc-b67f0724d714"
      },
      "source": [
        "a= np.array([[[7,8,5],[4,7,7],[7,1,9],[5,4,10]], #first axis arrays\n",
        "             [[2,1,2],[9,8,5],[3,7,3],[4,9,9]], #second axis array\n",
        "             [[2,9,3],[2,4,8],[1,6,6],[8,1,3]]]) #third axis array\n",
        "# 3-D array\n",
        "print (a)\n",
        "print(a.shape)"
      ],
      "execution_count": 6,
      "outputs": [
        {
          "output_type": "stream",
          "name": "stdout",
          "text": [
            "[[[ 7  8  5]\n",
            "  [ 4  7  7]\n",
            "  [ 7  1  9]\n",
            "  [ 5  4 10]]\n",
            "\n",
            " [[ 2  1  2]\n",
            "  [ 9  8  5]\n",
            "  [ 3  7  3]\n",
            "  [ 4  9  9]]\n",
            "\n",
            " [[ 2  9  3]\n",
            "  [ 2  4  8]\n",
            "  [ 1  6  6]\n",
            "  [ 8  1  3]]]\n",
            "(3, 4, 3)\n"
          ]
        }
      ]
    },
    {
      "cell_type": "markdown",
      "metadata": {
        "id": "oqAIzSw_l4aT"
      },
      "source": [
        "\n",
        "\n",
        "---\n",
        "3. Tambah angka 1 pada baris ganjil, dan tambah angka 2 pada baris genap\n",
        "\n"
      ]
    },
    {
      "cell_type": "code",
      "metadata": {
        "colab": {
          "base_uri": "https://localhost:8080/"
        },
        "id": "CTMsiHZEl6mp",
        "outputId": "c15de222-b2bd-4db2-a92a-e9fcfb857b90"
      },
      "source": [
        "a = np.array([[1,8,8,2],[8,2,1,2],[10,1,4,7],[1,4,7,8],[8,2,3,4]])\n",
        "print(a, \"\\n\")\n",
        "print(\"baris genap:\",a[0]+1,a[2]+1,a[4]+1)\n",
        "print(\"baris ganjil:\",a[1]+2,a[3]+2)\n"
      ],
      "execution_count": 42,
      "outputs": [
        {
          "output_type": "stream",
          "name": "stdout",
          "text": [
            "[[ 1  8  8  2]\n",
            " [ 8  2  1  2]\n",
            " [10  1  4  7]\n",
            " [ 1  4  7  8]\n",
            " [ 8  2  3  4]] \n",
            "\n",
            "baris genap: [2 9 9 3] [11  2  5  8] [9 3 4 5]\n",
            "baris ganjil: [10  4  3  4] [ 3  6  9 10]\n"
          ]
        }
      ]
    },
    {
      "cell_type": "markdown",
      "metadata": {
        "id": "ZOHbobTXu8XB"
      },
      "source": [
        "\n",
        "\n",
        "---\n",
        "5. ubah array menjadi 2d berukuran 6x6\n",
        "\n"
      ]
    },
    {
      "cell_type": "code",
      "metadata": {
        "colab": {
          "base_uri": "https://localhost:8080/"
        },
        "id": "VBKvWj5V0gsA",
        "outputId": "5fc2130f-7a19-4d33-d55e-3398909d8e95"
      },
      "source": [
        "a= np.array([[[7,8,5],[4,7,7],[7,1,9],[5,4,10]], #first axis arrays\n",
        "             [[2,1,2],[9,8,5],[3,7,3],[4,9,9]], #second axis array\n",
        "             [[2,9,3],[2,4,8],[1,6,6],[8,1,3]]]) #third axis array\n",
        "print(a,\"\\n\")\n",
        "np.reshape(a,(6,6))"
      ],
      "execution_count": 47,
      "outputs": [
        {
          "output_type": "stream",
          "name": "stdout",
          "text": [
            "[[[ 7  8  5]\n",
            "  [ 4  7  7]\n",
            "  [ 7  1  9]\n",
            "  [ 5  4 10]]\n",
            "\n",
            " [[ 2  1  2]\n",
            "  [ 9  8  5]\n",
            "  [ 3  7  3]\n",
            "  [ 4  9  9]]\n",
            "\n",
            " [[ 2  9  3]\n",
            "  [ 2  4  8]\n",
            "  [ 1  6  6]\n",
            "  [ 8  1  3]]] \n",
            "\n"
          ]
        },
        {
          "output_type": "execute_result",
          "data": {
            "text/plain": [
              "array([[ 7,  8,  5,  4,  7,  7],\n",
              "       [ 7,  1,  9,  5,  4, 10],\n",
              "       [ 2,  1,  2,  9,  8,  5],\n",
              "       [ 3,  7,  3,  4,  9,  9],\n",
              "       [ 2,  9,  3,  2,  4,  8],\n",
              "       [ 1,  6,  6,  8,  1,  3]])"
            ]
          },
          "metadata": {},
          "execution_count": 47
        }
      ]
    }
  ]
}