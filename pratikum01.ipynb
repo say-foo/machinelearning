{
  "nbformat": 4,
  "nbformat_minor": 0,
  "metadata": {
    "colab": {
      "name": "pratikum01.ipynb",
      "provenance": [],
      "collapsed_sections": []
    },
    "kernelspec": {
      "name": "python3",
      "display_name": "Python 3"
    },
    "language_info": {
      "name": "python"
    }
  },
  "cells": [
    {
      "cell_type": "code",
      "metadata": {
        "id": "yjvRRH1ndOaI"
      },
      "source": [
        ""
      ],
      "execution_count": null,
      "outputs": []
    },
    {
      "cell_type": "code",
      "metadata": {
        "colab": {
          "base_uri": "https://localhost:8080/",
          "height": 1000
        },
        "id": "TAh-f9qfdUSN",
        "outputId": "6ac65654-ed9c-4a48-a9ac-c8e6881a78c1"
      },
      "source": [
        "import pandas as pd\n",
        "path=\"/content/drive/MyDrive/Colab Notebooks/dataanime.csv\"\n",
        "dataset=pd.read_csv(path)\n",
        "dataset"
      ],
      "execution_count": 1,
      "outputs": [
        {
          "output_type": "execute_result",
          "data": {
            "text/html": [
              "<div>\n",
              "<style scoped>\n",
              "    .dataframe tbody tr th:only-of-type {\n",
              "        vertical-align: middle;\n",
              "    }\n",
              "\n",
              "    .dataframe tbody tr th {\n",
              "        vertical-align: top;\n",
              "    }\n",
              "\n",
              "    .dataframe thead th {\n",
              "        text-align: right;\n",
              "    }\n",
              "</style>\n",
              "<table border=\"1\" class=\"dataframe\">\n",
              "  <thead>\n",
              "    <tr style=\"text-align: right;\">\n",
              "      <th></th>\n",
              "      <th>Title</th>\n",
              "      <th>Type</th>\n",
              "      <th>Episodes</th>\n",
              "      <th>Status</th>\n",
              "      <th>Start airing</th>\n",
              "      <th>End airing</th>\n",
              "      <th>Starting season</th>\n",
              "      <th>Broadcast time</th>\n",
              "      <th>Producers</th>\n",
              "      <th>Licensors</th>\n",
              "      <th>Studios</th>\n",
              "      <th>Sources</th>\n",
              "      <th>Genres</th>\n",
              "      <th>Duration</th>\n",
              "      <th>Rating</th>\n",
              "      <th>Score</th>\n",
              "      <th>Scored by</th>\n",
              "      <th>Members</th>\n",
              "      <th>Favorites</th>\n",
              "      <th>Description</th>\n",
              "    </tr>\n",
              "  </thead>\n",
              "  <tbody>\n",
              "    <tr>\n",
              "      <th>0</th>\n",
              "      <td>Fullmetal Alchemist: Brotherhood</td>\n",
              "      <td>TV</td>\n",
              "      <td>64</td>\n",
              "      <td>Finished Airing</td>\n",
              "      <td>2009-4-5</td>\n",
              "      <td>2010-7-4</td>\n",
              "      <td>Spring</td>\n",
              "      <td>Sundays at 17:00 (JST)</td>\n",
              "      <td>Aniplex,Square Enix,Mainichi Broadcasting Syst...</td>\n",
              "      <td>Funimation,Aniplex of America</td>\n",
              "      <td>Bones</td>\n",
              "      <td>Manga</td>\n",
              "      <td>Action,Military,Adventure,Comedy,Drama,Magic,F...</td>\n",
              "      <td>24 min. per ep.</td>\n",
              "      <td>R</td>\n",
              "      <td>9.25</td>\n",
              "      <td>719706</td>\n",
              "      <td>1176368</td>\n",
              "      <td>105387</td>\n",
              "      <td>\"In order for something to be obtained, someth...</td>\n",
              "    </tr>\n",
              "    <tr>\n",
              "      <th>1</th>\n",
              "      <td>Kimi no Na wa.</td>\n",
              "      <td>Movie</td>\n",
              "      <td>1</td>\n",
              "      <td>Finished Airing</td>\n",
              "      <td>2016-8-26</td>\n",
              "      <td>-</td>\n",
              "      <td>-</td>\n",
              "      <td>-</td>\n",
              "      <td>Kadokawa Shoten,Toho,Sound Team Don Juan,Lawso...</td>\n",
              "      <td>Funimation,NYAV Post</td>\n",
              "      <td>CoMix Wave Films</td>\n",
              "      <td>Original</td>\n",
              "      <td>Supernatural,Drama,Romance,School</td>\n",
              "      <td>1 hr. 46 min.</td>\n",
              "      <td>PG-13</td>\n",
              "      <td>9.19</td>\n",
              "      <td>454969</td>\n",
              "      <td>705186</td>\n",
              "      <td>33936</td>\n",
              "      <td>Mitsuha Miyamizu, a high school girl, yearns t...</td>\n",
              "    </tr>\n",
              "    <tr>\n",
              "      <th>2</th>\n",
              "      <td>Gintama°</td>\n",
              "      <td>TV</td>\n",
              "      <td>51</td>\n",
              "      <td>Finished Airing</td>\n",
              "      <td>2015-4-8</td>\n",
              "      <td>2016-3-30</td>\n",
              "      <td>Spring</td>\n",
              "      <td>Wednesdays at 18:00 (JST)</td>\n",
              "      <td>TV Tokyo,Aniplex,Dentsu</td>\n",
              "      <td>Funimation,Crunchyroll</td>\n",
              "      <td>Bandai Namco Pictures</td>\n",
              "      <td>Manga</td>\n",
              "      <td>Action,Comedy,Historical,Parody,Samurai,Sci-Fi...</td>\n",
              "      <td>24 min. per ep.</td>\n",
              "      <td>R</td>\n",
              "      <td>9.16</td>\n",
              "      <td>70279</td>\n",
              "      <td>194359</td>\n",
              "      <td>5597</td>\n",
              "      <td>Gintoki, Shinpachi, and Kagura return as the f...</td>\n",
              "    </tr>\n",
              "    <tr>\n",
              "      <th>3</th>\n",
              "      <td>Steins;Gate 0</td>\n",
              "      <td>TV</td>\n",
              "      <td>23</td>\n",
              "      <td>Currently Airing</td>\n",
              "      <td>2018-4-12</td>\n",
              "      <td>-</td>\n",
              "      <td>Spring</td>\n",
              "      <td>Thursdays at 01:35 (JST)</td>\n",
              "      <td>Nitroplus</td>\n",
              "      <td>Funimation</td>\n",
              "      <td>White Fox</td>\n",
              "      <td>Visual novel</td>\n",
              "      <td>Sci-Fi,Thriller</td>\n",
              "      <td>23 min. per ep.</td>\n",
              "      <td>PG-13</td>\n",
              "      <td>9.16</td>\n",
              "      <td>12609</td>\n",
              "      <td>186331</td>\n",
              "      <td>1117</td>\n",
              "      <td>The dark untold story of Steins;Gate that lead...</td>\n",
              "    </tr>\n",
              "    <tr>\n",
              "      <th>4</th>\n",
              "      <td>Steins;Gate</td>\n",
              "      <td>TV</td>\n",
              "      <td>24</td>\n",
              "      <td>Finished Airing</td>\n",
              "      <td>2011-4-6</td>\n",
              "      <td>2011-9-14</td>\n",
              "      <td>Spring</td>\n",
              "      <td>Wednesdays at 02:05 (JST)</td>\n",
              "      <td>Frontier Works,Media Factory,Movic,AT-X,Kadoka...</td>\n",
              "      <td>Funimation</td>\n",
              "      <td>White Fox</td>\n",
              "      <td>Visual novel</td>\n",
              "      <td>Sci-Fi,Thriller</td>\n",
              "      <td>24 min. per ep.</td>\n",
              "      <td>PG-13</td>\n",
              "      <td>9.14</td>\n",
              "      <td>552791</td>\n",
              "      <td>990419</td>\n",
              "      <td>90365</td>\n",
              "      <td>The self-proclaimed mad scientist Rintarou Oka...</td>\n",
              "    </tr>\n",
              "    <tr>\n",
              "      <th>...</th>\n",
              "      <td>...</td>\n",
              "      <td>...</td>\n",
              "      <td>...</td>\n",
              "      <td>...</td>\n",
              "      <td>...</td>\n",
              "      <td>...</td>\n",
              "      <td>...</td>\n",
              "      <td>...</td>\n",
              "      <td>...</td>\n",
              "      <td>...</td>\n",
              "      <td>...</td>\n",
              "      <td>...</td>\n",
              "      <td>...</td>\n",
              "      <td>...</td>\n",
              "      <td>...</td>\n",
              "      <td>...</td>\n",
              "      <td>...</td>\n",
              "      <td>...</td>\n",
              "      <td>...</td>\n",
              "      <td>...</td>\n",
              "    </tr>\n",
              "    <tr>\n",
              "      <th>1558</th>\n",
              "      <td>Kuroshitsuji II</td>\n",
              "      <td>TV</td>\n",
              "      <td>12</td>\n",
              "      <td>Finished Airing</td>\n",
              "      <td>2010-7-2</td>\n",
              "      <td>2010-9-17</td>\n",
              "      <td>Summer</td>\n",
              "      <td>-</td>\n",
              "      <td>Aniplex,Square Enix,Mainichi Broadcasting System</td>\n",
              "      <td>Funimation</td>\n",
              "      <td>A-1 Pictures</td>\n",
              "      <td>Manga</td>\n",
              "      <td>Action,Comedy,Demons,Supernatural,Fantasy,Shounen</td>\n",
              "      <td>24 min. per ep.</td>\n",
              "      <td>R</td>\n",
              "      <td>7.48</td>\n",
              "      <td>171506</td>\n",
              "      <td>296985</td>\n",
              "      <td>3576</td>\n",
              "      <td>The stage of Kuroshitsuji II opens on the life...</td>\n",
              "    </tr>\n",
              "    <tr>\n",
              "      <th>1559</th>\n",
              "      <td>Minami-ke Natsuyasumi</td>\n",
              "      <td>OVA</td>\n",
              "      <td>1</td>\n",
              "      <td>Finished Airing</td>\n",
              "      <td>2013-8-6</td>\n",
              "      <td>-</td>\n",
              "      <td>-</td>\n",
              "      <td>-</td>\n",
              "      <td>Starchild Records</td>\n",
              "      <td>-</td>\n",
              "      <td>feel.</td>\n",
              "      <td>Manga</td>\n",
              "      <td>Comedy,Slice of Life</td>\n",
              "      <td>28 min.</td>\n",
              "      <td>PG-13</td>\n",
              "      <td>7.48</td>\n",
              "      <td>6062</td>\n",
              "      <td>12111</td>\n",
              "      <td>4</td>\n",
              "      <td>Second Minami-ke OVA bundled with the 11th vol...</td>\n",
              "    </tr>\n",
              "    <tr>\n",
              "      <th>1560</th>\n",
              "      <td>Naruto: Shippuuden Movie 3 - Hi no Ishi wo Tsu...</td>\n",
              "      <td>Movie</td>\n",
              "      <td>1</td>\n",
              "      <td>Finished Airing</td>\n",
              "      <td>2009-8-1</td>\n",
              "      <td>-</td>\n",
              "      <td>-</td>\n",
              "      <td>-</td>\n",
              "      <td>Toho</td>\n",
              "      <td>Viz Media</td>\n",
              "      <td>Studio Pierrot</td>\n",
              "      <td>Manga</td>\n",
              "      <td>Action,Comedy,Martial Arts,Shounen,Super Power</td>\n",
              "      <td>1 hr. 35 min.</td>\n",
              "      <td>PG-13</td>\n",
              "      <td>7.48</td>\n",
              "      <td>61505</td>\n",
              "      <td>104288</td>\n",
              "      <td>129</td>\n",
              "      <td>Ninjas with bloodline limits begin disappearin...</td>\n",
              "    </tr>\n",
              "    <tr>\n",
              "      <th>1561</th>\n",
              "      <td>Persona 4 the Animation: The Factor of Hope</td>\n",
              "      <td>Movie</td>\n",
              "      <td>1</td>\n",
              "      <td>Finished Airing</td>\n",
              "      <td>2012-6-9</td>\n",
              "      <td>-</td>\n",
              "      <td>-</td>\n",
              "      <td>-</td>\n",
              "      <td>Index</td>\n",
              "      <td>-</td>\n",
              "      <td>AIC A.S.T.A.</td>\n",
              "      <td>-</td>\n",
              "      <td>Adventure,Mystery,Super Power,Supernatural,School</td>\n",
              "      <td>1 hr. 30 min.</td>\n",
              "      <td>PG-13</td>\n",
              "      <td>7.48</td>\n",
              "      <td>3054</td>\n",
              "      <td>12868</td>\n",
              "      <td>12</td>\n",
              "      <td>Recap of the entire 25-episode television anim...</td>\n",
              "    </tr>\n",
              "    <tr>\n",
              "      <th>1562</th>\n",
              "      <td>Re:␣Hamatora</td>\n",
              "      <td>TV</td>\n",
              "      <td>12</td>\n",
              "      <td>Finished Airing</td>\n",
              "      <td>2014-7-8</td>\n",
              "      <td>2014-9-23</td>\n",
              "      <td>Summer</td>\n",
              "      <td>Tuesdays at 02:05 (JST)</td>\n",
              "      <td>TV Tokyo,Sotsu,AT-X,DAX Production,NAZ,DIVE II...</td>\n",
              "      <td>Sentai Filmworks</td>\n",
              "      <td>Lerche</td>\n",
              "      <td>Original</td>\n",
              "      <td>Mystery,Comedy,Super Power,Drama</td>\n",
              "      <td>24 min. per ep.</td>\n",
              "      <td>R</td>\n",
              "      <td>7.48</td>\n",
              "      <td>46334</td>\n",
              "      <td>99299</td>\n",
              "      <td>330</td>\n",
              "      <td>It has been three months since the incident at...</td>\n",
              "    </tr>\n",
              "  </tbody>\n",
              "</table>\n",
              "<p>1563 rows × 20 columns</p>\n",
              "</div>"
            ],
            "text/plain": [
              "                                                  Title  ...                                        Description\n",
              "0                      Fullmetal Alchemist: Brotherhood  ...  \"In order for something to be obtained, someth...\n",
              "1                                        Kimi no Na wa.  ...  Mitsuha Miyamizu, a high school girl, yearns t...\n",
              "2                                              Gintama°  ...  Gintoki, Shinpachi, and Kagura return as the f...\n",
              "3                                         Steins;Gate 0  ...  The dark untold story of Steins;Gate that lead...\n",
              "4                                           Steins;Gate  ...  The self-proclaimed mad scientist Rintarou Oka...\n",
              "...                                                 ...  ...                                                ...\n",
              "1558                                    Kuroshitsuji II  ...  The stage of Kuroshitsuji II opens on the life...\n",
              "1559                              Minami-ke Natsuyasumi  ...  Second Minami-ke OVA bundled with the 11th vol...\n",
              "1560  Naruto: Shippuuden Movie 3 - Hi no Ishi wo Tsu...  ...  Ninjas with bloodline limits begin disappearin...\n",
              "1561        Persona 4 the Animation: The Factor of Hope  ...  Recap of the entire 25-episode television anim...\n",
              "1562                                       Re:␣Hamatora  ...  It has been three months since the incident at...\n",
              "\n",
              "[1563 rows x 20 columns]"
            ]
          },
          "metadata": {},
          "execution_count": 1
        }
      ]
    },
    {
      "cell_type": "code",
      "metadata": {
        "colab": {
          "base_uri": "https://localhost:8080/",
          "height": 564
        },
        "id": "J6GQvHmya_-w",
        "outputId": "065d773a-c797-4bfd-dc57-9e82a3cb32f2"
      },
      "source": [
        "dataset.head()"
      ],
      "execution_count": 3,
      "outputs": [
        {
          "output_type": "execute_result",
          "data": {
            "text/html": [
              "<div>\n",
              "<style scoped>\n",
              "    .dataframe tbody tr th:only-of-type {\n",
              "        vertical-align: middle;\n",
              "    }\n",
              "\n",
              "    .dataframe tbody tr th {\n",
              "        vertical-align: top;\n",
              "    }\n",
              "\n",
              "    .dataframe thead th {\n",
              "        text-align: right;\n",
              "    }\n",
              "</style>\n",
              "<table border=\"1\" class=\"dataframe\">\n",
              "  <thead>\n",
              "    <tr style=\"text-align: right;\">\n",
              "      <th></th>\n",
              "      <th>Title</th>\n",
              "      <th>Type</th>\n",
              "      <th>Episodes</th>\n",
              "      <th>Status</th>\n",
              "      <th>Start airing</th>\n",
              "      <th>End airing</th>\n",
              "      <th>Starting season</th>\n",
              "      <th>Broadcast time</th>\n",
              "      <th>Producers</th>\n",
              "      <th>Licensors</th>\n",
              "      <th>Studios</th>\n",
              "      <th>Sources</th>\n",
              "      <th>Genres</th>\n",
              "      <th>Duration</th>\n",
              "      <th>Rating</th>\n",
              "      <th>Score</th>\n",
              "      <th>Scored by</th>\n",
              "      <th>Members</th>\n",
              "      <th>Favorites</th>\n",
              "      <th>Description</th>\n",
              "    </tr>\n",
              "  </thead>\n",
              "  <tbody>\n",
              "    <tr>\n",
              "      <th>0</th>\n",
              "      <td>Fullmetal Alchemist: Brotherhood</td>\n",
              "      <td>TV</td>\n",
              "      <td>64</td>\n",
              "      <td>Finished Airing</td>\n",
              "      <td>2009-4-5</td>\n",
              "      <td>2010-7-4</td>\n",
              "      <td>Spring</td>\n",
              "      <td>Sundays at 17:00 (JST)</td>\n",
              "      <td>Aniplex,Square Enix,Mainichi Broadcasting Syst...</td>\n",
              "      <td>Funimation,Aniplex of America</td>\n",
              "      <td>Bones</td>\n",
              "      <td>Manga</td>\n",
              "      <td>Action,Military,Adventure,Comedy,Drama,Magic,F...</td>\n",
              "      <td>24 min. per ep.</td>\n",
              "      <td>R</td>\n",
              "      <td>9.25</td>\n",
              "      <td>719706</td>\n",
              "      <td>1176368</td>\n",
              "      <td>105387</td>\n",
              "      <td>\"In order for something to be obtained, someth...</td>\n",
              "    </tr>\n",
              "    <tr>\n",
              "      <th>1</th>\n",
              "      <td>Kimi no Na wa.</td>\n",
              "      <td>Movie</td>\n",
              "      <td>1</td>\n",
              "      <td>Finished Airing</td>\n",
              "      <td>2016-8-26</td>\n",
              "      <td>-</td>\n",
              "      <td>-</td>\n",
              "      <td>-</td>\n",
              "      <td>Kadokawa Shoten,Toho,Sound Team Don Juan,Lawso...</td>\n",
              "      <td>Funimation,NYAV Post</td>\n",
              "      <td>CoMix Wave Films</td>\n",
              "      <td>Original</td>\n",
              "      <td>Supernatural,Drama,Romance,School</td>\n",
              "      <td>1 hr. 46 min.</td>\n",
              "      <td>PG-13</td>\n",
              "      <td>9.19</td>\n",
              "      <td>454969</td>\n",
              "      <td>705186</td>\n",
              "      <td>33936</td>\n",
              "      <td>Mitsuha Miyamizu, a high school girl, yearns t...</td>\n",
              "    </tr>\n",
              "    <tr>\n",
              "      <th>2</th>\n",
              "      <td>Gintama°</td>\n",
              "      <td>TV</td>\n",
              "      <td>51</td>\n",
              "      <td>Finished Airing</td>\n",
              "      <td>2015-4-8</td>\n",
              "      <td>2016-3-30</td>\n",
              "      <td>Spring</td>\n",
              "      <td>Wednesdays at 18:00 (JST)</td>\n",
              "      <td>TV Tokyo,Aniplex,Dentsu</td>\n",
              "      <td>Funimation,Crunchyroll</td>\n",
              "      <td>Bandai Namco Pictures</td>\n",
              "      <td>Manga</td>\n",
              "      <td>Action,Comedy,Historical,Parody,Samurai,Sci-Fi...</td>\n",
              "      <td>24 min. per ep.</td>\n",
              "      <td>R</td>\n",
              "      <td>9.16</td>\n",
              "      <td>70279</td>\n",
              "      <td>194359</td>\n",
              "      <td>5597</td>\n",
              "      <td>Gintoki, Shinpachi, and Kagura return as the f...</td>\n",
              "    </tr>\n",
              "    <tr>\n",
              "      <th>3</th>\n",
              "      <td>Steins;Gate 0</td>\n",
              "      <td>TV</td>\n",
              "      <td>23</td>\n",
              "      <td>Currently Airing</td>\n",
              "      <td>2018-4-12</td>\n",
              "      <td>-</td>\n",
              "      <td>Spring</td>\n",
              "      <td>Thursdays at 01:35 (JST)</td>\n",
              "      <td>Nitroplus</td>\n",
              "      <td>Funimation</td>\n",
              "      <td>White Fox</td>\n",
              "      <td>Visual novel</td>\n",
              "      <td>Sci-Fi,Thriller</td>\n",
              "      <td>23 min. per ep.</td>\n",
              "      <td>PG-13</td>\n",
              "      <td>9.16</td>\n",
              "      <td>12609</td>\n",
              "      <td>186331</td>\n",
              "      <td>1117</td>\n",
              "      <td>The dark untold story of Steins;Gate that lead...</td>\n",
              "    </tr>\n",
              "    <tr>\n",
              "      <th>4</th>\n",
              "      <td>Steins;Gate</td>\n",
              "      <td>TV</td>\n",
              "      <td>24</td>\n",
              "      <td>Finished Airing</td>\n",
              "      <td>2011-4-6</td>\n",
              "      <td>2011-9-14</td>\n",
              "      <td>Spring</td>\n",
              "      <td>Wednesdays at 02:05 (JST)</td>\n",
              "      <td>Frontier Works,Media Factory,Movic,AT-X,Kadoka...</td>\n",
              "      <td>Funimation</td>\n",
              "      <td>White Fox</td>\n",
              "      <td>Visual novel</td>\n",
              "      <td>Sci-Fi,Thriller</td>\n",
              "      <td>24 min. per ep.</td>\n",
              "      <td>PG-13</td>\n",
              "      <td>9.14</td>\n",
              "      <td>552791</td>\n",
              "      <td>990419</td>\n",
              "      <td>90365</td>\n",
              "      <td>The self-proclaimed mad scientist Rintarou Oka...</td>\n",
              "    </tr>\n",
              "  </tbody>\n",
              "</table>\n",
              "</div>"
            ],
            "text/plain": [
              "                              Title  ...                                        Description\n",
              "0  Fullmetal Alchemist: Brotherhood  ...  \"In order for something to be obtained, someth...\n",
              "1                    Kimi no Na wa.  ...  Mitsuha Miyamizu, a high school girl, yearns t...\n",
              "2                          Gintama°  ...  Gintoki, Shinpachi, and Kagura return as the f...\n",
              "3                     Steins;Gate 0  ...  The dark untold story of Steins;Gate that lead...\n",
              "4                       Steins;Gate  ...  The self-proclaimed mad scientist Rintarou Oka...\n",
              "\n",
              "[5 rows x 20 columns]"
            ]
          },
          "metadata": {},
          "execution_count": 3
        }
      ]
    },
    {
      "cell_type": "code",
      "metadata": {
        "colab": {
          "base_uri": "https://localhost:8080/"
        },
        "id": "qrCbeG7mdiAv",
        "outputId": "ddc5fe3e-f27d-4986-b5c8-bc7da0c86989"
      },
      "source": [
        "dataset.shape"
      ],
      "execution_count": 4,
      "outputs": [
        {
          "output_type": "execute_result",
          "data": {
            "text/plain": [
              "(1563, 20)"
            ]
          },
          "metadata": {},
          "execution_count": 4
        }
      ]
    },
    {
      "cell_type": "code",
      "metadata": {
        "colab": {
          "base_uri": "https://localhost:8080/"
        },
        "id": "FAQz9LUqdpnw",
        "outputId": "04609897-1922-4988-d631-6b2505eccd2a"
      },
      "source": [
        "dataset.isnull().sum()"
      ],
      "execution_count": 5,
      "outputs": [
        {
          "output_type": "execute_result",
          "data": {
            "text/plain": [
              "Title              0\n",
              "Type               0\n",
              "Episodes           0\n",
              "Status             0\n",
              "Start airing       0\n",
              "End airing         0\n",
              "Starting season    0\n",
              "Broadcast time     0\n",
              "Producers          0\n",
              "Licensors          0\n",
              "Studios            0\n",
              "Sources            0\n",
              "Genres             0\n",
              "Duration           0\n",
              "Rating             0\n",
              "Score              0\n",
              "Scored by          0\n",
              "Members            0\n",
              "Favorites          0\n",
              "Description        0\n",
              "dtype: int64"
            ]
          },
          "metadata": {},
          "execution_count": 5
        }
      ]
    },
    {
      "cell_type": "code",
      "metadata": {
        "colab": {
          "base_uri": "https://localhost:8080/"
        },
        "id": "o-mjPdmVdz2k",
        "outputId": "e6c0855c-53fe-4bfc-a94e-44c38d08b411"
      },
      "source": [
        "dataset.max()"
      ],
      "execution_count": 6,
      "outputs": [
        {
          "output_type": "execute_result",
          "data": {
            "text/plain": [
              "Title                                              xxxHOLiC Shunmuki\n",
              "Type                                                              TV\n",
              "Episodes                                                          99\n",
              "Status                                               Finished Airing\n",
              "Start airing                                                2018-4-8\n",
              "End airing                                                 2019-8-16\n",
              "Starting season                                               Winter\n",
              "Broadcast time                                                   YTV\n",
              "Producers                               Aniplex,Kodansha,Delfi Sound\n",
              "Licensors                                                      feel.\n",
              "Studios                                                     ufotable\n",
              "Sources                                                    Web manga\n",
              "Genres              Adventure,Slice of Life,Mystery,Historical,Su...\n",
              "Duration                                                      9 min.\n",
              "Rating                                                             R\n",
              "Score                                                           9.25\n",
              "Scored by                                                     993775\n",
              "Members                                                      1432871\n",
              "Favorites                                                     105387\n",
              "Description        ​It has been a year since Aoba Suzukaze starte...\n",
              "dtype: object"
            ]
          },
          "metadata": {},
          "execution_count": 6
        }
      ]
    },
    {
      "cell_type": "code",
      "metadata": {
        "colab": {
          "base_uri": "https://localhost:8080/"
        },
        "id": "5W7HHpYmeAL1",
        "outputId": "7749999b-1ee2-4339-d95d-40dcfb929dcd"
      },
      "source": [
        "dataset.min()"
      ],
      "execution_count": 7,
      "outputs": [
        {
          "output_type": "execute_result",
          "data": {
            "text/plain": [
              "Title                                         \"Bungaku Shoujo\" Movie\n",
              "Type                                                           Movie\n",
              "Episodes                                                           -\n",
              "Status                                              Currently Airing\n",
              "Start airing                                                       -\n",
              "End airing                                                         -\n",
              "Starting season                                                    -\n",
              "Broadcast time                                                     -\n",
              "Producers                                                          -\n",
              "Licensors                                                          -\n",
              "Studios                                                            -\n",
              "Sources                                                            -\n",
              "Genres                                                        Action\n",
              "Duration                                                           -\n",
              "Rating                                                             G\n",
              "Score                                                           7.48\n",
              "Scored by                                                        144\n",
              "Members                                                          781\n",
              "Favorites                                                          1\n",
              "Description         20 years after meddling into the bank heist o...\n",
              "dtype: object"
            ]
          },
          "metadata": {},
          "execution_count": 7
        }
      ]
    },
    {
      "cell_type": "code",
      "metadata": {
        "colab": {
          "base_uri": "https://localhost:8080/",
          "height": 297
        },
        "id": "pvkAdaHceGIW",
        "outputId": "33d0224d-029c-4b6e-9e85-b038f0f5d444"
      },
      "source": [
        "dataset.describe()"
      ],
      "execution_count": 8,
      "outputs": [
        {
          "output_type": "execute_result",
          "data": {
            "text/html": [
              "<div>\n",
              "<style scoped>\n",
              "    .dataframe tbody tr th:only-of-type {\n",
              "        vertical-align: middle;\n",
              "    }\n",
              "\n",
              "    .dataframe tbody tr th {\n",
              "        vertical-align: top;\n",
              "    }\n",
              "\n",
              "    .dataframe thead th {\n",
              "        text-align: right;\n",
              "    }\n",
              "</style>\n",
              "<table border=\"1\" class=\"dataframe\">\n",
              "  <thead>\n",
              "    <tr style=\"text-align: right;\">\n",
              "      <th></th>\n",
              "      <th>Score</th>\n",
              "      <th>Scored by</th>\n",
              "      <th>Members</th>\n",
              "      <th>Favorites</th>\n",
              "    </tr>\n",
              "  </thead>\n",
              "  <tbody>\n",
              "    <tr>\n",
              "      <th>count</th>\n",
              "      <td>1563.000000</td>\n",
              "      <td>1563.000000</td>\n",
              "      <td>1.563000e+03</td>\n",
              "      <td>1563.00000</td>\n",
              "    </tr>\n",
              "    <tr>\n",
              "      <th>mean</th>\n",
              "      <td>7.905144</td>\n",
              "      <td>60537.209213</td>\n",
              "      <td>1.153567e+05</td>\n",
              "      <td>2309.15483</td>\n",
              "    </tr>\n",
              "    <tr>\n",
              "      <th>std</th>\n",
              "      <td>0.340127</td>\n",
              "      <td>99856.869169</td>\n",
              "      <td>1.669685e+05</td>\n",
              "      <td>7358.06195</td>\n",
              "    </tr>\n",
              "    <tr>\n",
              "      <th>min</th>\n",
              "      <td>7.480000</td>\n",
              "      <td>144.000000</td>\n",
              "      <td>7.810000e+02</td>\n",
              "      <td>1.00000</td>\n",
              "    </tr>\n",
              "    <tr>\n",
              "      <th>25%</th>\n",
              "      <td>7.630000</td>\n",
              "      <td>6876.000000</td>\n",
              "      <td>1.738050e+04</td>\n",
              "      <td>54.00000</td>\n",
              "    </tr>\n",
              "    <tr>\n",
              "      <th>50%</th>\n",
              "      <td>7.820000</td>\n",
              "      <td>24730.000000</td>\n",
              "      <td>5.209700e+04</td>\n",
              "      <td>264.00000</td>\n",
              "    </tr>\n",
              "    <tr>\n",
              "      <th>75%</th>\n",
              "      <td>8.110000</td>\n",
              "      <td>68933.500000</td>\n",
              "      <td>1.367520e+05</td>\n",
              "      <td>1273.00000</td>\n",
              "    </tr>\n",
              "    <tr>\n",
              "      <th>max</th>\n",
              "      <td>9.250000</td>\n",
              "      <td>993775.000000</td>\n",
              "      <td>1.432871e+06</td>\n",
              "      <td>105387.00000</td>\n",
              "    </tr>\n",
              "  </tbody>\n",
              "</table>\n",
              "</div>"
            ],
            "text/plain": [
              "             Score      Scored by       Members     Favorites\n",
              "count  1563.000000    1563.000000  1.563000e+03    1563.00000\n",
              "mean      7.905144   60537.209213  1.153567e+05    2309.15483\n",
              "std       0.340127   99856.869169  1.669685e+05    7358.06195\n",
              "min       7.480000     144.000000  7.810000e+02       1.00000\n",
              "25%       7.630000    6876.000000  1.738050e+04      54.00000\n",
              "50%       7.820000   24730.000000  5.209700e+04     264.00000\n",
              "75%       8.110000   68933.500000  1.367520e+05    1273.00000\n",
              "max       9.250000  993775.000000  1.432871e+06  105387.00000"
            ]
          },
          "metadata": {},
          "execution_count": 8
        }
      ]
    },
    {
      "cell_type": "code",
      "metadata": {
        "colab": {
          "base_uri": "https://localhost:8080/"
        },
        "id": "3B7Z6rureOZH",
        "outputId": "44e96469-9d9b-474f-d350-4c2d9e92de64"
      },
      "source": [
        "dataset.describe().loc['max','Score']"
      ],
      "execution_count": 9,
      "outputs": [
        {
          "output_type": "execute_result",
          "data": {
            "text/plain": [
              "9.25"
            ]
          },
          "metadata": {},
          "execution_count": 9
        }
      ]
    },
    {
      "cell_type": "code",
      "metadata": {
        "colab": {
          "base_uri": "https://localhost:8080/"
        },
        "id": "D971mQ0pfZAo",
        "outputId": "2d414a55-cc39-4e3c-d5ca-9d02abc565c1"
      },
      "source": [
        "dataset.describe()['Members']['max']"
      ],
      "execution_count": 10,
      "outputs": [
        {
          "output_type": "execute_result",
          "data": {
            "text/plain": [
              "1432871.0"
            ]
          },
          "metadata": {},
          "execution_count": 10
        }
      ]
    },
    {
      "cell_type": "code",
      "metadata": {
        "id": "gLHPq_Ggfs2M"
      },
      "source": [
        "data=dataset.dropna()"
      ],
      "execution_count": 11,
      "outputs": []
    },
    {
      "cell_type": "code",
      "metadata": {
        "colab": {
          "base_uri": "https://localhost:8080/"
        },
        "id": "iajMelpggB1G",
        "outputId": "346a8868-4d2c-4b4d-f919-8a82b9fbf9b1"
      },
      "source": [
        "data.shape"
      ],
      "execution_count": 12,
      "outputs": [
        {
          "output_type": "execute_result",
          "data": {
            "text/plain": [
              "(1563, 20)"
            ]
          },
          "metadata": {},
          "execution_count": 12
        }
      ]
    },
    {
      "cell_type": "code",
      "metadata": {
        "id": "qrU_D4g_gTAZ"
      },
      "source": [
        "dataset.dropna(axis=0,subset=['Score','Members'],inplace=True)"
      ],
      "execution_count": 13,
      "outputs": []
    },
    {
      "cell_type": "code",
      "metadata": {
        "colab": {
          "base_uri": "https://localhost:8080/"
        },
        "id": "DuNVDdBBgqnU",
        "outputId": "d011a51b-b011-4c0c-b9ef-6d3ec15dc038"
      },
      "source": [
        "data.shape"
      ],
      "execution_count": 14,
      "outputs": [
        {
          "output_type": "execute_result",
          "data": {
            "text/plain": [
              "(1563, 20)"
            ]
          },
          "metadata": {},
          "execution_count": 14
        }
      ]
    },
    {
      "cell_type": "code",
      "metadata": {
        "colab": {
          "base_uri": "https://localhost:8080/"
        },
        "id": "W3aRiX2lgxYx",
        "outputId": "db7c9842-4ef7-47ad-ed45-70f4a2a99418"
      },
      "source": [
        "#Memilih data target prediksi\n",
        "y=data['Members']\n",
        "y"
      ],
      "execution_count": 15,
      "outputs": [
        {
          "output_type": "execute_result",
          "data": {
            "text/plain": [
              "0       1176368\n",
              "1        705186\n",
              "2        194359\n",
              "3        186331\n",
              "4        990419\n",
              "         ...   \n",
              "1558     296985\n",
              "1559      12111\n",
              "1560     104288\n",
              "1561      12868\n",
              "1562      99299\n",
              "Name: Members, Length: 1563, dtype: int64"
            ]
          },
          "metadata": {},
          "execution_count": 15
        }
      ]
    },
    {
      "cell_type": "code",
      "metadata": {
        "colab": {
          "base_uri": "https://localhost:8080/",
          "height": 419
        },
        "id": "NL0witLPhFjX",
        "outputId": "a51a4fd9-317f-4b39-ce37-ac98a90ed876"
      },
      "source": [
        "#Memilih Fitur\n",
        "Fitur=['Title','Score']\n",
        "X=data[Fitur]\n",
        "X"
      ],
      "execution_count": 16,
      "outputs": [
        {
          "output_type": "execute_result",
          "data": {
            "text/html": [
              "<div>\n",
              "<style scoped>\n",
              "    .dataframe tbody tr th:only-of-type {\n",
              "        vertical-align: middle;\n",
              "    }\n",
              "\n",
              "    .dataframe tbody tr th {\n",
              "        vertical-align: top;\n",
              "    }\n",
              "\n",
              "    .dataframe thead th {\n",
              "        text-align: right;\n",
              "    }\n",
              "</style>\n",
              "<table border=\"1\" class=\"dataframe\">\n",
              "  <thead>\n",
              "    <tr style=\"text-align: right;\">\n",
              "      <th></th>\n",
              "      <th>Title</th>\n",
              "      <th>Score</th>\n",
              "    </tr>\n",
              "  </thead>\n",
              "  <tbody>\n",
              "    <tr>\n",
              "      <th>0</th>\n",
              "      <td>Fullmetal Alchemist: Brotherhood</td>\n",
              "      <td>9.25</td>\n",
              "    </tr>\n",
              "    <tr>\n",
              "      <th>1</th>\n",
              "      <td>Kimi no Na wa.</td>\n",
              "      <td>9.19</td>\n",
              "    </tr>\n",
              "    <tr>\n",
              "      <th>2</th>\n",
              "      <td>Gintama°</td>\n",
              "      <td>9.16</td>\n",
              "    </tr>\n",
              "    <tr>\n",
              "      <th>3</th>\n",
              "      <td>Steins;Gate 0</td>\n",
              "      <td>9.16</td>\n",
              "    </tr>\n",
              "    <tr>\n",
              "      <th>4</th>\n",
              "      <td>Steins;Gate</td>\n",
              "      <td>9.14</td>\n",
              "    </tr>\n",
              "    <tr>\n",
              "      <th>...</th>\n",
              "      <td>...</td>\n",
              "      <td>...</td>\n",
              "    </tr>\n",
              "    <tr>\n",
              "      <th>1558</th>\n",
              "      <td>Kuroshitsuji II</td>\n",
              "      <td>7.48</td>\n",
              "    </tr>\n",
              "    <tr>\n",
              "      <th>1559</th>\n",
              "      <td>Minami-ke Natsuyasumi</td>\n",
              "      <td>7.48</td>\n",
              "    </tr>\n",
              "    <tr>\n",
              "      <th>1560</th>\n",
              "      <td>Naruto: Shippuuden Movie 3 - Hi no Ishi wo Tsu...</td>\n",
              "      <td>7.48</td>\n",
              "    </tr>\n",
              "    <tr>\n",
              "      <th>1561</th>\n",
              "      <td>Persona 4 the Animation: The Factor of Hope</td>\n",
              "      <td>7.48</td>\n",
              "    </tr>\n",
              "    <tr>\n",
              "      <th>1562</th>\n",
              "      <td>Re:␣Hamatora</td>\n",
              "      <td>7.48</td>\n",
              "    </tr>\n",
              "  </tbody>\n",
              "</table>\n",
              "<p>1563 rows × 2 columns</p>\n",
              "</div>"
            ],
            "text/plain": [
              "                                                  Title  Score\n",
              "0                      Fullmetal Alchemist: Brotherhood   9.25\n",
              "1                                        Kimi no Na wa.   9.19\n",
              "2                                              Gintama°   9.16\n",
              "3                                         Steins;Gate 0   9.16\n",
              "4                                           Steins;Gate   9.14\n",
              "...                                                 ...    ...\n",
              "1558                                    Kuroshitsuji II   7.48\n",
              "1559                              Minami-ke Natsuyasumi   7.48\n",
              "1560  Naruto: Shippuuden Movie 3 - Hi no Ishi wo Tsu...   7.48\n",
              "1561        Persona 4 the Animation: The Factor of Hope   7.48\n",
              "1562                                       Re:␣Hamatora   7.48\n",
              "\n",
              "[1563 rows x 2 columns]"
            ]
          },
          "metadata": {},
          "execution_count": 16
        }
      ]
    }
  ]
}