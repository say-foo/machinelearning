{
  "nbformat": 4,
  "nbformat_minor": 0,
  "metadata": {
    "colab": {
      "name": "Pratikum2.ipynb",
      "provenance": []
    },
    "kernelspec": {
      "name": "python3",
      "display_name": "Python 3"
    },
    "language_info": {
      "name": "python"
    }
  },
  "cells": [
    {
      "cell_type": "code",
      "metadata": {
        "colab": {
          "base_uri": "https://localhost:8080/"
        },
        "id": "BNr86yGfQTJw",
        "outputId": "e7249b05-9f86-4c3d-addd-baa50f3a4353"
      },
      "source": [
        "import sys\n",
        "#versi python\n",
        "print(\"Versi Python = {}\".format(sys.version))"
      ],
      "execution_count": 48,
      "outputs": [
        {
          "output_type": "stream",
          "name": "stdout",
          "text": [
            "Versi Python = 3.7.12 (default, Sep 10 2021, 00:21:48) \n",
            "[GCC 7.5.0]\n"
          ]
        }
      ]
    },
    {
      "cell_type": "code",
      "metadata": {
        "colab": {
          "base_uri": "https://localhost:8080/"
        },
        "id": "ptE-VBkvRCAb",
        "outputId": "1b0d8a14-fd5f-415f-dda3-3cb0cb47e013"
      },
      "source": [
        "import numpy\n",
        "#versi numpy\n",
        "print(\"Versi Numpy = {}\".format(numpy.__version__))"
      ],
      "execution_count": 49,
      "outputs": [
        {
          "output_type": "stream",
          "name": "stdout",
          "text": [
            "Versi Numpy = 1.19.5\n"
          ]
        }
      ]
    },
    {
      "cell_type": "code",
      "metadata": {
        "colab": {
          "base_uri": "https://localhost:8080/"
        },
        "id": "bzQiJvaVRc5y",
        "outputId": "388881fa-3cbc-4068-d892-0cd593d73b34"
      },
      "source": [
        "import pandas\n",
        "#versi pandas\n",
        "print(\"Versi Pandas = {}\".format(pandas.__version__))"
      ],
      "execution_count": 50,
      "outputs": [
        {
          "output_type": "stream",
          "name": "stdout",
          "text": [
            "Versi Pandas = 1.1.5\n"
          ]
        }
      ]
    },
    {
      "cell_type": "code",
      "metadata": {
        "colab": {
          "base_uri": "https://localhost:8080/"
        },
        "id": "naL6pMs7Rrnh",
        "outputId": "24b3af54-5975-439a-8b51-e4dd0d5dddce"
      },
      "source": [
        "import matplotlib\n",
        "#versi matplotlib\n",
        "print(\"Versi Matplotlib = {}\".format(matplotlib.__version__))"
      ],
      "execution_count": 51,
      "outputs": [
        {
          "output_type": "stream",
          "name": "stdout",
          "text": [
            "Versi Matplotlib = 3.2.2\n"
          ]
        }
      ]
    },
    {
      "cell_type": "code",
      "metadata": {
        "colab": {
          "base_uri": "https://localhost:8080/"
        },
        "id": "X-Tk48KRSFqY",
        "outputId": "7e47c957-28e5-4234-a320-783150a3ad34"
      },
      "source": [
        "#membuat dasar numpy array\n",
        "import numpy as np\n",
        "np.array([1,2,3,4])"
      ],
      "execution_count": 52,
      "outputs": [
        {
          "output_type": "execute_result",
          "data": {
            "text/plain": [
              "array([1, 2, 3, 4])"
            ]
          },
          "metadata": {},
          "execution_count": 52
        }
      ]
    },
    {
      "cell_type": "code",
      "metadata": {
        "colab": {
          "base_uri": "https://localhost:8080/"
        },
        "id": "ugW6-zqWSXLA",
        "outputId": "78fdbb73-dc57-4bb2-a9c5-616e1a80fbd3"
      },
      "source": [
        "#array dengan tipe data, gunakan argumen dtype untuk tipe data\n",
        "np.array([1,2,3,4],dtype=np.float32)"
      ],
      "execution_count": 53,
      "outputs": [
        {
          "output_type": "execute_result",
          "data": {
            "text/plain": [
              "array([1., 2., 3., 4.], dtype=float32)"
            ]
          },
          "metadata": {},
          "execution_count": 53
        }
      ]
    },
    {
      "cell_type": "code",
      "metadata": {
        "colab": {
          "base_uri": "https://localhost:8080/"
        },
        "id": "H4_PjqziUEml",
        "outputId": "114e2be9-56cc-4bc4-88bc-db149aab47fb"
      },
      "source": [
        "#jika nilai array berbeda-beda maka dilakukan upcast, contoh integer menjadi float\n",
        "np.array([1,2,0,3,4])"
      ],
      "execution_count": 54,
      "outputs": [
        {
          "output_type": "execute_result",
          "data": {
            "text/plain": [
              "array([1, 2, 0, 3, 4])"
            ]
          },
          "metadata": {},
          "execution_count": 54
        }
      ]
    },
    {
      "cell_type": "code",
      "metadata": {
        "colab": {
          "base_uri": "https://localhost:8080/"
        },
        "id": "y037w2lVUlKQ",
        "outputId": "8e4eaf8f-b202-4514-ecb2-1abd36fd82bd"
      },
      "source": [
        "#array multidimensi\n",
        "np.array([[1,2,3,4],[5,6,7,8]])"
      ],
      "execution_count": 55,
      "outputs": [
        {
          "output_type": "execute_result",
          "data": {
            "text/plain": [
              "array([[1, 2, 3, 4],\n",
              "       [5, 6, 7, 8]])"
            ]
          },
          "metadata": {},
          "execution_count": 55
        }
      ]
    },
    {
      "cell_type": "code",
      "metadata": {
        "colab": {
          "base_uri": "https://localhost:8080/"
        },
        "id": "wcbW4sxlVCUZ",
        "outputId": "ae7d8d4e-4862-4b42-f9da-7b85b23bb769"
      },
      "source": [
        "#array zeros\n",
        "np.zeros(5)\n",
        "np.zeros((2,3))"
      ],
      "execution_count": 56,
      "outputs": [
        {
          "output_type": "execute_result",
          "data": {
            "text/plain": [
              "array([[0., 0., 0.],\n",
              "       [0., 0., 0.]])"
            ]
          },
          "metadata": {},
          "execution_count": 56
        }
      ]
    },
    {
      "cell_type": "code",
      "metadata": {
        "colab": {
          "base_uri": "https://localhost:8080/"
        },
        "id": "-ip3SNZ4VQ73",
        "outputId": "a121d176-554f-4643-be9d-d553cd68b578"
      },
      "source": [
        "#array ones\n",
        "np.ones(5,dtype=np.int32)"
      ],
      "execution_count": 57,
      "outputs": [
        {
          "output_type": "execute_result",
          "data": {
            "text/plain": [
              "array([1, 1, 1, 1, 1], dtype=int32)"
            ]
          },
          "metadata": {},
          "execution_count": 57
        }
      ]
    },
    {
      "cell_type": "code",
      "metadata": {
        "colab": {
          "base_uri": "https://localhost:8080/"
        },
        "id": "HtWo-YL5Vh8o",
        "outputId": "876ed0ec-dddd-40b9-ec4e-56645d5a407d"
      },
      "source": [
        "#array random\n",
        "np.random.rand(3,4)"
      ],
      "execution_count": 58,
      "outputs": [
        {
          "output_type": "execute_result",
          "data": {
            "text/plain": [
              "array([[0.29695608, 0.03130016, 0.68201483, 0.75753306],\n",
              "       [0.42528929, 0.96657707, 0.58357113, 0.36009097],\n",
              "       [0.19920204, 0.22733458, 0.7791485 , 0.44863604]])"
            ]
          },
          "metadata": {},
          "execution_count": 58
        }
      ]
    },
    {
      "cell_type": "code",
      "metadata": {
        "colab": {
          "base_uri": "https://localhost:8080/"
        },
        "id": "h_QTxQspVuNI",
        "outputId": "5aa3c4c3-e02d-433a-ab0f-9a416ba39dfc"
      },
      "source": [
        "#array buatan sendiri\n",
        "np.full([2,3],8)"
      ],
      "execution_count": 59,
      "outputs": [
        {
          "output_type": "execute_result",
          "data": {
            "text/plain": [
              "array([[8, 8, 8],\n",
              "       [8, 8, 8]])"
            ]
          },
          "metadata": {},
          "execution_count": 59
        }
      ]
    },
    {
      "cell_type": "code",
      "metadata": {
        "colab": {
          "base_uri": "https://localhost:8080/"
        },
        "id": "ex_YMTwoV9pY",
        "outputId": "9f7730ff-f414-4b7f-e570-db19841def5a"
      },
      "source": [
        "#identity matrix\n",
        "np.eye(4)"
      ],
      "execution_count": 60,
      "outputs": [
        {
          "output_type": "execute_result",
          "data": {
            "text/plain": [
              "array([[1., 0., 0., 0.],\n",
              "       [0., 1., 0., 0.],\n",
              "       [0., 0., 1., 0.],\n",
              "       [0., 0., 0., 1.]])"
            ]
          },
          "metadata": {},
          "execution_count": 60
        }
      ]
    },
    {
      "cell_type": "markdown",
      "metadata": {
        "id": "rty69VdeWKDe"
      },
      "source": [
        "\n",
        "\n",
        "---\n",
        "\n",
        "\n",
        "**Pratikum-02.np.arange() method:**\n",
        "  1. Array berurutan\n",
        "  2. Array dengan data awal dan akhir dengan jarak yang ditentukan"
      ]
    },
    {
      "cell_type": "code",
      "metadata": {
        "colab": {
          "base_uri": "https://localhost:8080/"
        },
        "id": "UprLTbvzWpYV",
        "outputId": "947d3c23-1887-4b73-d16e-1b8061b69095"
      },
      "source": [
        "#array berurutan\n",
        "np.arange(8)"
      ],
      "execution_count": 61,
      "outputs": [
        {
          "output_type": "execute_result",
          "data": {
            "text/plain": [
              "array([0, 1, 2, 3, 4, 5, 6, 7])"
            ]
          },
          "metadata": {},
          "execution_count": 61
        }
      ]
    },
    {
      "cell_type": "code",
      "metadata": {
        "colab": {
          "base_uri": "https://localhost:8080/"
        },
        "id": "_IufHSUcW564",
        "outputId": "2de52888-18c9-4f3e-8ed4-d505dd263252"
      },
      "source": [
        "#Array dengan data awal dan akhir dengan jarak yang ditentukan\n",
        "np.arange(2,10,3)"
      ],
      "execution_count": 62,
      "outputs": [
        {
          "output_type": "execute_result",
          "data": {
            "text/plain": [
              "array([2, 5, 8])"
            ]
          },
          "metadata": {},
          "execution_count": 62
        }
      ]
    },
    {
      "cell_type": "code",
      "metadata": {
        "colab": {
          "base_uri": "https://localhost:8080/"
        },
        "id": "vgct9OuAXPjk",
        "outputId": "cf782850-333a-4d89-c83e-b6d437bb2a79"
      },
      "source": [
        "#array berurutan dengan banyaknya data yang berimbang\n",
        "np.linspace(0,1,5)"
      ],
      "execution_count": 63,
      "outputs": [
        {
          "output_type": "execute_result",
          "data": {
            "text/plain": [
              "array([0.  , 0.25, 0.5 , 0.75, 1.  ])"
            ]
          },
          "metadata": {},
          "execution_count": 63
        }
      ]
    },
    {
      "cell_type": "markdown",
      "metadata": {
        "id": "gQwexLAvYuhv"
      },
      "source": [
        "\n",
        "\n",
        "---\n",
        "\n",
        "\n",
        "**Pratikum-03 SHAPE AND RESHAPING NUMPY ARRAY**\n",
        "  1. Dimensions of NumPy Array\n",
        "  2. Shape of NumPy Array\n",
        "  3. Size of NumPy Array \n",
        "  4. Reshaping a NumPy Array\n",
        "\n"
      ]
    },
    {
      "cell_type": "code",
      "metadata": {
        "colab": {
          "base_uri": "https://localhost:8080/"
        },
        "id": "RzQMEynen5zv",
        "outputId": "a2a65761-919e-4e27-a3d7-ae0022a8a95a"
      },
      "source": [
        "#number of axis\n",
        "a = np.array([[5,10,15],[20,25,20]])\n",
        "print('Array','\\n',a)\n",
        "print('Dimension','\\n',a.ndim)"
      ],
      "execution_count": 64,
      "outputs": [
        {
          "output_type": "stream",
          "name": "stdout",
          "text": [
            "Array \n",
            " [[ 5 10 15]\n",
            " [20 25 20]]\n",
            "Dimension \n",
            " 2\n"
          ]
        }
      ]
    },
    {
      "cell_type": "code",
      "metadata": {
        "colab": {
          "base_uri": "https://localhost:8080/"
        },
        "id": "E3AF2c7nprWb",
        "outputId": "8e5ee23c-9695-4322-fcb1-bb0f55d61c2b"
      },
      "source": [
        "#shape of numpy array\n",
        "a = np.array([[1,2,3],[4,5,6]])\n",
        "print('Array :','\\n',a)\n",
        "print('Shape :','\\n',a.shape)\n",
        "print('Rows =',a.shape[0])\n",
        "print('Columns =',a.shape[1])"
      ],
      "execution_count": 65,
      "outputs": [
        {
          "output_type": "stream",
          "name": "stdout",
          "text": [
            "Array : \n",
            " [[1 2 3]\n",
            " [4 5 6]]\n",
            "Shape : \n",
            " (2, 3)\n",
            "Rows = 2\n",
            "Columns = 3\n"
          ]
        }
      ]
    },
    {
      "cell_type": "code",
      "metadata": {
        "colab": {
          "base_uri": "https://localhost:8080/"
        },
        "id": "AsB4rmi8uEXD",
        "outputId": "46c8e890-28b1-4e50-baeb-2730a777ca09"
      },
      "source": [
        "#size of numpy array\n",
        "a = np.array([[5,10,15],[20,25,30]])\n",
        "print('Ukuran dari array:',a.size)\n",
        "print('Manual determination of size of array :',a.shape[0]*a.shape[1])"
      ],
      "execution_count": 66,
      "outputs": [
        {
          "output_type": "stream",
          "name": "stdout",
          "text": [
            "Ukuran dari array: 6\n",
            "Manual determination of size of array : 6\n"
          ]
        }
      ]
    },
    {
      "cell_type": "markdown",
      "metadata": {
        "id": "xX29VJD3HKVf"
      },
      "source": [
        "\n",
        "\n",
        "---\n",
        "\n",
        "\n",
        "**PRATIKUM-04 Reshaping a NumPy Array**\n",
        "  1. np.reshape()method, merubah ukuran array tanpa mengubah isi data\n",
        "  2. mengubah ukuran array, jika tidak pasti kolom atau barisnya beri angka -1\n",
        "  3. Flattening suatu NumPy array = ubah array jadi 1 dimensi\n",
        "  4. Transpose Array"
      ]
    },
    {
      "cell_type": "code",
      "metadata": {
        "colab": {
          "base_uri": "https://localhost:8080/"
        },
        "id": "r-BOj2MTH6UM",
        "outputId": "017a49bd-f222-4c4b-e849-608f2fb761e0"
      },
      "source": [
        "#reshape mengubah ukuran array sesuai ukuran yang diinginkan\n",
        "a = np.array([3,6,9,5,1,2])\n",
        "np.reshape(a,(2,3))"
      ],
      "execution_count": 67,
      "outputs": [
        {
          "output_type": "execute_result",
          "data": {
            "text/plain": [
              "array([[3, 6, 9],\n",
              "       [5, 1, 2]])"
            ]
          },
          "metadata": {},
          "execution_count": 67
        }
      ]
    },
    {
      "cell_type": "code",
      "metadata": {
        "colab": {
          "base_uri": "https://localhost:8080/"
        },
        "id": "1o8pM7EkIq-G",
        "outputId": "b2d14a67-3e37-4bf1-9e09-0c16b6468b25"
      },
      "source": [
        "#mengubah array jika tidak diketahui ukurannya pastinya beri tanda -1\n",
        "a = np.array([3,6,9,12,18,24])\n",
        "print('Three Rows :','\\n',np.reshape(a,(3,-1)))\n",
        "print('Three Columns :', '\\n',np.reshape(a,(-1,3)))"
      ],
      "execution_count": 68,
      "outputs": [
        {
          "output_type": "stream",
          "name": "stdout",
          "text": [
            "Three Rows : \n",
            " [[ 3  6]\n",
            " [ 9 12]\n",
            " [18 24]]\n",
            "Three Columns : \n",
            " [[ 3  6  9]\n",
            " [12 18 24]]\n"
          ]
        }
      ]
    },
    {
      "cell_type": "code",
      "metadata": {
        "colab": {
          "base_uri": "https://localhost:8080/"
        },
        "id": "5D0gAGyeJblI",
        "outputId": "f5963a3a-9bea-4ea6-8643-8c81f0d1d26a"
      },
      "source": [
        "#np.ones((2,2))\n",
        "a = np.array([[3,45,26],[53,51,52],[3,5,6]])\n",
        "b = a.flatten()\n",
        "c = a.ravel()\n",
        "print('Original shape :', a.shape)\n",
        "print('Array :','\\n', a)\n",
        "print('Shape setelah flatten :',b.shape)\n",
        "print('Array :','\\n', b)\n",
        "print('Shape setelah ravel :',c.shape)\n",
        "print('Array :','\\n', c)"
      ],
      "execution_count": 69,
      "outputs": [
        {
          "output_type": "stream",
          "name": "stdout",
          "text": [
            "Original shape : (3, 3)\n",
            "Array : \n",
            " [[ 3 45 26]\n",
            " [53 51 52]\n",
            " [ 3  5  6]]\n",
            "Shape setelah flatten : (9,)\n",
            "Array : \n",
            " [ 3 45 26 53 51 52  3  5  6]\n",
            "Shape setelah ravel : (9,)\n",
            "Array : \n",
            " [ 3 45 26 53 51 52  3  5  6]\n"
          ]
        }
      ]
    },
    {
      "cell_type": "code",
      "metadata": {
        "colab": {
          "base_uri": "https://localhost:8080/"
        },
        "id": "kYUS6B4JMZU5",
        "outputId": "03ce7ca3-0331-4313-d43d-f2373a75f91d"
      },
      "source": [
        "#tranpose array\n",
        "a = np.array([[1,2,3],[4,5,6]])\n",
        "b = np.transpose(a)\n",
        "print('Original','\\n',a.shape,'\\n',a)\n",
        "print('Ukuran array setelah transpose:','\\n','Shape',b.shape,'\\n',b)"
      ],
      "execution_count": 70,
      "outputs": [
        {
          "output_type": "stream",
          "name": "stdout",
          "text": [
            "Original \n",
            " (2, 3) \n",
            " [[1 2 3]\n",
            " [4 5 6]]\n",
            "Ukuran array setelah transpose: \n",
            " Shape (3, 2) \n",
            " [[1 4]\n",
            " [2 5]\n",
            " [3 6]]\n"
          ]
        }
      ]
    },
    {
      "cell_type": "markdown",
      "metadata": {
        "id": "8UArfyXsNMCn"
      },
      "source": [
        "\n",
        "\n",
        "---\n",
        "\n",
        "\n",
        "**PRAKTIKUM-05.Indexing dan Slocong of NumPy array**\n",
        "  1. Slicing 1-D NumPy arrays\n",
        "  2. Slicing 2-D NumPy arrays\n",
        "  3. Slicing 3-D NumPy arrays"
      ]
    },
    {
      "cell_type": "code",
      "metadata": {
        "colab": {
          "base_uri": "https://localhost:8080/"
        },
        "id": "_WVV-7Y8NkYw",
        "outputId": "337398a8-2f7c-4300-da8d-491cc133f70a"
      },
      "source": [
        "#Slicing 1-D NumPy arrays\n",
        "a = np.array([1,2,3,4,5,6])\n",
        "print(a[1:5:2])"
      ],
      "execution_count": 71,
      "outputs": [
        {
          "output_type": "stream",
          "name": "stdout",
          "text": [
            "[2 4]\n"
          ]
        }
      ]
    },
    {
      "cell_type": "code",
      "metadata": {
        "colab": {
          "base_uri": "https://localhost:8080/"
        },
        "id": "pbHacl2fN4yM",
        "outputId": "f71fe3c5-1ce0-4fda-90ca-23e83f575f10"
      },
      "source": [
        "a = np.array([1,2,3,4,5,6])\n",
        "print(a[1:6:2])"
      ],
      "execution_count": 72,
      "outputs": [
        {
          "output_type": "stream",
          "name": "stdout",
          "text": [
            "[2 4 6]\n"
          ]
        }
      ]
    },
    {
      "cell_type": "code",
      "metadata": {
        "colab": {
          "base_uri": "https://localhost:8080/"
        },
        "id": "J0aBTxo2OKPr",
        "outputId": "74292d82-cf00-485f-cc62-50b8650bade6"
      },
      "source": [
        "a = np.array([1,2,3,4,5,6])\n",
        "print(a[:6:2]) #tampilkann data dari indeks ke 1 sampai 6 dengan selisih 2\n",
        "print(a[1::2])\n",
        "print(a[1:6:])"
      ],
      "execution_count": 73,
      "outputs": [
        {
          "output_type": "stream",
          "name": "stdout",
          "text": [
            "[1 3 5]\n",
            "[2 4 6]\n",
            "[2 3 4 5 6]\n"
          ]
        }
      ]
    },
    {
      "cell_type": "code",
      "metadata": {
        "colab": {
          "base_uri": "https://localhost:8080/"
        },
        "id": "0CqyYScaOzHa",
        "outputId": "6118a299-bdc8-4a09-dc88-a4beadb41072"
      },
      "source": [
        "#Slicing 2-D NumPy arrays\n",
        "a = np.array([[1,2,3],[4,5,6]])\n",
        "print(a)\n",
        "print(a[0,0]) #baris 0 kolom 0\n",
        "print(a[1,2])\n",
        "print(a[1,0])"
      ],
      "execution_count": 74,
      "outputs": [
        {
          "output_type": "stream",
          "name": "stdout",
          "text": [
            "[[1 2 3]\n",
            " [4 5 6]]\n",
            "1\n",
            "6\n",
            "4\n"
          ]
        }
      ]
    },
    {
      "cell_type": "code",
      "metadata": {
        "colab": {
          "base_uri": "https://localhost:8080/"
        },
        "id": "_O9LluhpPaiV",
        "outputId": "6906955e-0ccf-497e-fbda-0c56188d6287"
      },
      "source": [
        "a = np.array([[1,2,3],[4,5,6]]) #[baris,kolom]\n",
        "print(a)\n",
        "#baris pertama\n",
        "print('First row value :','\\n',a[0:1,:])\n",
        "#baris pertama dengan step\n",
        "print('Alternate values from first row:','\\n',a[0:1,::2])\n",
        "print('Second column values :','\\n',a[:,1::2])\n",
        "print('Arbitrary values :','\\n',a[0:1,1:3])\n",
        "\n"
      ],
      "execution_count": 75,
      "outputs": [
        {
          "output_type": "stream",
          "name": "stdout",
          "text": [
            "[[1 2 3]\n",
            " [4 5 6]]\n",
            "First row value : \n",
            " [[1 2 3]]\n",
            "Alternate values from first row: \n",
            " [[1 3]]\n",
            "Second column values : \n",
            " [[2]\n",
            " [5]]\n",
            "Arbitrary values : \n",
            " [[2 3]]\n"
          ]
        }
      ]
    },
    {
      "cell_type": "code",
      "metadata": {
        "colab": {
          "base_uri": "https://localhost:8080/"
        },
        "id": "r2Q_Bg3OV33-",
        "outputId": "89ef7408-3fb9-4565-c0e0-8a42aef829b3"
      },
      "source": [
        "#Slicing 3-D NumPy arrays\n",
        "a= np.array([[[1,2],[3,4],[5,6]], #first axis arrays\n",
        "             [[7,8],[9,10],[11,12]], #second axis array\n",
        "             [[13,14],[15,16],[17,18]]]) #third axis array\n",
        "# 3-D array\n",
        "print (a)\n",
        "print(a.shape)"
      ],
      "execution_count": 76,
      "outputs": [
        {
          "output_type": "stream",
          "name": "stdout",
          "text": [
            "[[[ 1  2]\n",
            "  [ 3  4]\n",
            "  [ 5  6]]\n",
            "\n",
            " [[ 7  8]\n",
            "  [ 9 10]\n",
            "  [11 12]]\n",
            "\n",
            " [[13 14]\n",
            "  [15 16]\n",
            "  [17 18]]]\n",
            "(3, 3, 2)\n"
          ]
        }
      ]
    },
    {
      "cell_type": "markdown",
      "metadata": {
        "id": "5UQCWdo5XLoY"
      },
      "source": [
        "\n",
        "\n",
        "---\n",
        "\n",
        "\n",
        "**PRAKTIKUM-5.OPERASI MATEMATIKA**"
      ]
    },
    {
      "cell_type": "code",
      "metadata": {
        "colab": {
          "base_uri": "https://localhost:8080/"
        },
        "id": "LJRBEB7rXUIO",
        "outputId": "d0f2d73c-3d65-433c-867a-45a915520450"
      },
      "source": [
        "a = np.arange(1,6)\n",
        "b = np.arange(6,11)\n",
        "print(a)\n",
        "print(b)\n",
        "print('Subtract :',a-5)\n",
        "print('Multyply :',a*5)\n",
        "print('Divide   :',a/5)\n",
        "print('Power    :',a**2)\n",
        "print('Remainder:',a%5)"
      ],
      "execution_count": 77,
      "outputs": [
        {
          "output_type": "stream",
          "name": "stdout",
          "text": [
            "[1 2 3 4 5]\n",
            "[ 6  7  8  9 10]\n",
            "Subtract : [-4 -3 -2 -1  0]\n",
            "Multyply : [ 5 10 15 20 25]\n",
            "Divide   : [0.2 0.4 0.6 0.8 1. ]\n",
            "Power    : [ 1  4  9 16 25]\n",
            "Remainder: [1 2 3 4 0]\n"
          ]
        }
      ]
    },
    {
      "cell_type": "code",
      "metadata": {
        "colab": {
          "base_uri": "https://localhost:8080/"
        },
        "id": "dBAjOHtHYWvo",
        "outputId": "569e8ff8-9987-4f1d-ebb6-ca4ce07b0475"
      },
      "source": [
        "a = np.arange(5,15,2)\n",
        "print(a)\n",
        "print('Mean :',np.mean(a))\n",
        "print('Standard deviation :',np.std(a))\n",
        "print('Median :',np.max(np.median(a)))"
      ],
      "execution_count": 78,
      "outputs": [
        {
          "output_type": "stream",
          "name": "stdout",
          "text": [
            "[ 5  7  9 11 13]\n",
            "Mean : 9.0\n",
            "Standard deviation : 2.8284271247461903\n",
            "Median : 9.0\n"
          ]
        }
      ]
    },
    {
      "cell_type": "code",
      "metadata": {
        "colab": {
          "base_uri": "https://localhost:8080/"
        },
        "id": "0gldDtLGY6Rw",
        "outputId": "8bcbe0df-c527-49fe-e463-34991af9a6b8"
      },
      "source": [
        "a = np.array([[1,6],[4,3]])\n",
        "#minimum along a column\n",
        "print('Min :',np.min(a,axis=0))\n",
        "print('Max :',np.max(a,axis=1))"
      ],
      "execution_count": 79,
      "outputs": [
        {
          "output_type": "stream",
          "name": "stdout",
          "text": [
            "Min : [1 3]\n",
            "Max : [6 4]\n"
          ]
        }
      ]
    },
    {
      "cell_type": "code",
      "metadata": {
        "colab": {
          "base_uri": "https://localhost:8080/"
        },
        "id": "r19UEIk-ZQ6J",
        "outputId": "50d3f5bb-2d34-41a8-bac9-5fdf46c138e4"
      },
      "source": [
        "a = np.array([[5,6,7,4],[9,2,3,7]]) # sort aling the column\n",
        "print('Sort along column :','\\n',np.sort(a, kind='mergresort',axis=1))\n",
        "print('Sort along row :','\\n',np.sort(a, kind='mergresort',axis=0))"
      ],
      "execution_count": 80,
      "outputs": [
        {
          "output_type": "stream",
          "name": "stdout",
          "text": [
            "Sort along column : \n",
            " [[4 5 6 7]\n",
            " [2 3 7 9]]\n",
            "Sort along row : \n",
            " [[5 2 3 4]\n",
            " [9 6 7 7]]\n"
          ]
        }
      ]
    },
    {
      "cell_type": "markdown",
      "metadata": {
        "id": "TUwtwvPVByfL"
      },
      "source": [
        "\n",
        "\n",
        "---\n",
        "\n",
        "\n",
        "**Pratikum NumPy dengan Dataset**"
      ]
    },
    {
      "cell_type": "code",
      "metadata": {
        "id": "W45W7ixAbARN"
      },
      "source": [
        "import csv\n",
        "with open('/content/drive/MyDrive/Colab Notebooks/winequality-red.csv','r') as f:\n",
        "  wines = list(csv.reader(f, delimiter=';'))"
      ],
      "execution_count": 81,
      "outputs": []
    },
    {
      "cell_type": "code",
      "metadata": {
        "colab": {
          "base_uri": "https://localhost:8080/"
        },
        "id": "Kfyjv0uOECTk",
        "outputId": "f602d5e5-a793-44f5-a130-5e6bbd2f7403"
      },
      "source": [
        "print(wines[:3])"
      ],
      "execution_count": 82,
      "outputs": [
        {
          "output_type": "stream",
          "name": "stdout",
          "text": [
            "[['fixed acidity', 'volatile acidity', 'citric acid', 'residual sugar', 'chlorides', 'free sulfur dioxide', 'total sulfur dioxide', 'density', 'pH', 'sulphates', 'alcohol', 'quality'], ['7.4', '0.7', '0', '1.9', '0.076', '11', '34', '0.9978', '3.51', '0.56', '9.4', '5'], ['7.8', '0.88', '0', '2.6', '0.098', '25', '67', '0.9968', '3.2', '0.68', '9.8', '5']]\n"
          ]
        }
      ]
    },
    {
      "cell_type": "code",
      "metadata": {
        "id": "3yu9tVPXJtFy"
      },
      "source": [
        "import numpy as np\n",
        "wines = np.array(wines[1:], dtype=np.float)\n"
      ],
      "execution_count": 89,
      "outputs": []
    },
    {
      "cell_type": "code",
      "metadata": {
        "colab": {
          "base_uri": "https://localhost:8080/"
        },
        "id": "VdTInH8JQZsJ",
        "outputId": "9ca16604-90ef-4a70-ee75-d713b39f3d1d"
      },
      "source": [
        "wines.dtype"
      ],
      "execution_count": 90,
      "outputs": [
        {
          "output_type": "execute_result",
          "data": {
            "text/plain": [
              "dtype('float64')"
            ]
          },
          "metadata": {},
          "execution_count": 90
        }
      ]
    },
    {
      "cell_type": "code",
      "metadata": {
        "colab": {
          "base_uri": "https://localhost:8080/"
        },
        "id": "FxKkUaWBQeFj",
        "outputId": "d45b699c-9f29-48a4-c9f4-bc7c88f2cdc9"
      },
      "source": [
        "(wines[3:])"
      ],
      "execution_count": 91,
      "outputs": [
        {
          "output_type": "execute_result",
          "data": {
            "text/plain": [
              "array([[11.2  ,  0.28 ,  0.56 , ...,  0.58 ,  9.8  ,  6.   ],\n",
              "       [ 7.4  ,  0.7  ,  0.   , ...,  0.56 ,  9.4  ,  5.   ],\n",
              "       [ 7.4  ,  0.66 ,  0.   , ...,  0.56 ,  9.4  ,  5.   ],\n",
              "       ...,\n",
              "       [ 6.3  ,  0.51 ,  0.13 , ...,  0.75 , 11.   ,  6.   ],\n",
              "       [ 5.9  ,  0.645,  0.12 , ...,  0.71 , 10.2  ,  5.   ],\n",
              "       [ 6.   ,  0.31 ,  0.47 , ...,  0.66 , 11.   ,  6.   ]])"
            ]
          },
          "metadata": {},
          "execution_count": 91
        }
      ]
    },
    {
      "cell_type": "code",
      "metadata": {
        "colab": {
          "base_uri": "https://localhost:8080/"
        },
        "id": "yO6oYLgYQmLC",
        "outputId": "7222a2b6-7090-4aa9-b5cb-a9587665277c"
      },
      "source": [
        "qualities = [float(item[-1]) for item in wines[1:]]\n",
        "sum(qualities) / len(qualities)"
      ],
      "execution_count": 93,
      "outputs": [
        {
          "output_type": "execute_result",
          "data": {
            "text/plain": [
              "5.636420525657071"
            ]
          },
          "metadata": {},
          "execution_count": 93
        }
      ]
    },
    {
      "cell_type": "code",
      "metadata": {
        "colab": {
          "base_uri": "https://localhost:8080/"
        },
        "id": "iDvVEgVURAhq",
        "outputId": "e627672f-618d-413d-f522-269ff725ec32"
      },
      "source": [
        "wines"
      ],
      "execution_count": 94,
      "outputs": [
        {
          "output_type": "execute_result",
          "data": {
            "text/plain": [
              "array([[ 7.4  ,  0.7  ,  0.   , ...,  0.56 ,  9.4  ,  5.   ],\n",
              "       [ 7.8  ,  0.88 ,  0.   , ...,  0.68 ,  9.8  ,  5.   ],\n",
              "       [ 7.8  ,  0.76 ,  0.04 , ...,  0.65 ,  9.8  ,  5.   ],\n",
              "       ...,\n",
              "       [ 6.3  ,  0.51 ,  0.13 , ...,  0.75 , 11.   ,  6.   ],\n",
              "       [ 5.9  ,  0.645,  0.12 , ...,  0.71 , 10.2  ,  5.   ],\n",
              "       [ 6.   ,  0.31 ,  0.47 , ...,  0.66 , 11.   ,  6.   ]])"
            ]
          },
          "metadata": {},
          "execution_count": 94
        }
      ]
    },
    {
      "cell_type": "code",
      "metadata": {
        "colab": {
          "base_uri": "https://localhost:8080/"
        },
        "id": "oCb4bsdkRDiS",
        "outputId": "7ecef618-e4dc-4cb3-9d2b-8aa4de53777e"
      },
      "source": [
        "wines.shape"
      ],
      "execution_count": 95,
      "outputs": [
        {
          "output_type": "execute_result",
          "data": {
            "text/plain": [
              "(1599, 12)"
            ]
          },
          "metadata": {},
          "execution_count": 95
        }
      ]
    },
    {
      "cell_type": "code",
      "metadata": {
        "id": "YETkxAr6RQtT"
      },
      "source": [
        "wines = np.genfromtxt(\"/content/drive/MyDrive/Colab Notebooks/winequality-red.csv\", delimiter=\";\", skip_header=1)"
      ],
      "execution_count": 96,
      "outputs": []
    },
    {
      "cell_type": "code",
      "metadata": {
        "colab": {
          "base_uri": "https://localhost:8080/"
        },
        "id": "LYbs9mv7RiKI",
        "outputId": "aabb0aa1-159d-4434-93ee-e9bb2bd89fd8"
      },
      "source": [
        "wines"
      ],
      "execution_count": 97,
      "outputs": [
        {
          "output_type": "execute_result",
          "data": {
            "text/plain": [
              "array([[ 7.4  ,  0.7  ,  0.   , ...,  0.56 ,  9.4  ,  5.   ],\n",
              "       [ 7.8  ,  0.88 ,  0.   , ...,  0.68 ,  9.8  ,  5.   ],\n",
              "       [ 7.8  ,  0.76 ,  0.04 , ...,  0.65 ,  9.8  ,  5.   ],\n",
              "       ...,\n",
              "       [ 6.3  ,  0.51 ,  0.13 , ...,  0.75 , 11.   ,  6.   ],\n",
              "       [ 5.9  ,  0.645,  0.12 , ...,  0.71 , 10.2  ,  5.   ],\n",
              "       [ 6.   ,  0.31 ,  0.47 , ...,  0.66 , 11.   ,  6.   ]])"
            ]
          },
          "metadata": {},
          "execution_count": 97
        }
      ]
    },
    {
      "cell_type": "code",
      "metadata": {
        "colab": {
          "base_uri": "https://localhost:8080/"
        },
        "id": "QgPFGqcVRkV8",
        "outputId": "7fa7c179-1fcf-476a-8749-8b1253b41bab"
      },
      "source": [
        "wines[2,3]"
      ],
      "execution_count": 98,
      "outputs": [
        {
          "output_type": "execute_result",
          "data": {
            "text/plain": [
              "2.3"
            ]
          },
          "metadata": {},
          "execution_count": 98
        }
      ]
    },
    {
      "cell_type": "code",
      "metadata": {
        "colab": {
          "base_uri": "https://localhost:8080/"
        },
        "id": "xg5CcZfYRnme",
        "outputId": "9e48da97-7620-4808-9bf5-c5e192bf1330"
      },
      "source": [
        "#slicing\n",
        "wines[0:3,3]"
      ],
      "execution_count": 99,
      "outputs": [
        {
          "output_type": "execute_result",
          "data": {
            "text/plain": [
              "array([1.9, 2.6, 2.3])"
            ]
          },
          "metadata": {},
          "execution_count": 99
        }
      ]
    },
    {
      "cell_type": "code",
      "metadata": {
        "colab": {
          "base_uri": "https://localhost:8080/"
        },
        "id": "6WmrKVfQRvLI",
        "outputId": "1d0312be-97f3-4e57-ec65-8619fc6f64c6"
      },
      "source": [
        "wines[:3,3]"
      ],
      "execution_count": 100,
      "outputs": [
        {
          "output_type": "execute_result",
          "data": {
            "text/plain": [
              "array([1.9, 2.6, 2.3])"
            ]
          },
          "metadata": {},
          "execution_count": 100
        }
      ]
    },
    {
      "cell_type": "code",
      "metadata": {
        "colab": {
          "base_uri": "https://localhost:8080/"
        },
        "id": "TPNqtPCHR3Iw",
        "outputId": "6958e81d-bd24-4ff1-f1c3-16233169f018"
      },
      "source": [
        "wines[:,3]"
      ],
      "execution_count": 101,
      "outputs": [
        {
          "output_type": "execute_result",
          "data": {
            "text/plain": [
              "array([1.9, 2.6, 2.3, ..., 2.3, 2. , 3.6])"
            ]
          },
          "metadata": {},
          "execution_count": 101
        }
      ]
    },
    {
      "cell_type": "code",
      "metadata": {
        "colab": {
          "base_uri": "https://localhost:8080/"
        },
        "id": "jYZggauMR6yU",
        "outputId": "ace0078f-ed5a-4fbb-fef7-a1acd7b46a7b"
      },
      "source": [
        "wines[3,:]"
      ],
      "execution_count": 102,
      "outputs": [
        {
          "output_type": "execute_result",
          "data": {
            "text/plain": [
              "array([11.2  ,  0.28 ,  0.56 ,  1.9  ,  0.075, 17.   , 60.   ,  0.998,\n",
              "        3.16 ,  0.58 ,  9.8  ,  6.   ])"
            ]
          },
          "metadata": {},
          "execution_count": 102
        }
      ]
    }
  ]
}