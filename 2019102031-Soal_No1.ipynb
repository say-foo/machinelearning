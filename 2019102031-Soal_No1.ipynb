{
  "nbformat": 4,
  "nbformat_minor": 0,
  "metadata": {
    "colab": {
      "name": "Soal-No1.ipynb",
      "provenance": []
    },
    "kernelspec": {
      "name": "python3",
      "display_name": "Python 3"
    },
    "language_info": {
      "name": "python"
    }
  },
  "cells": [
    {
      "cell_type": "code",
      "source": [
        "from google.colab import drive\n",
        "drive.mount('/content/drive')"
      ],
      "metadata": {
        "colab": {
          "base_uri": "https://localhost:8080/"
        },
        "id": "22l_ANzCJEYj",
        "outputId": "28af177f-f81c-4d1b-d1c8-ded5893176dc"
      },
      "execution_count": null,
      "outputs": [
        {
          "output_type": "stream",
          "name": "stdout",
          "text": [
            "Mounted at /content/drive\n"
          ]
        }
      ]
    },
    {
      "cell_type": "code",
      "source": [
        "import pandas as pd\n",
        "df = pd.read_csv('/content/drive/MyDrive/Colab Notebooks/Data Penjualan Ayam.csv')\n",
        "df.head()"
      ],
      "metadata": {
        "colab": {
          "base_uri": "https://localhost:8080/",
          "height": 206
        },
        "id": "n383CMgRJLWb",
        "outputId": "40987aa7-db6f-479a-b331-ae850c3dfb5f"
      },
      "execution_count": 32,
      "outputs": [
        {
          "output_type": "execute_result",
          "data": {
            "text/html": [
              "\n",
              "  <div id=\"df-8650c89f-24ab-476d-ad45-4501c0453a57\">\n",
              "    <div class=\"colab-df-container\">\n",
              "      <div>\n",
              "<style scoped>\n",
              "    .dataframe tbody tr th:only-of-type {\n",
              "        vertical-align: middle;\n",
              "    }\n",
              "\n",
              "    .dataframe tbody tr th {\n",
              "        vertical-align: top;\n",
              "    }\n",
              "\n",
              "    .dataframe thead th {\n",
              "        text-align: right;\n",
              "    }\n",
              "</style>\n",
              "<table border=\"1\" class=\"dataframe\">\n",
              "  <thead>\n",
              "    <tr style=\"text-align: right;\">\n",
              "      <th></th>\n",
              "      <th>id</th>\n",
              "      <th>tgl</th>\n",
              "      <th>bulan</th>\n",
              "      <th>tahun</th>\n",
              "      <th>username</th>\n",
              "      <th>nama_perusahaan</th>\n",
              "      <th>jumlah_ayam</th>\n",
              "      <th>kg</th>\n",
              "      <th>harga_unit</th>\n",
              "      <th>total_harga</th>\n",
              "      <th>biaya_oprasional</th>\n",
              "      <th>jumlah_mati</th>\n",
              "      <th>bayaran</th>\n",
              "      <th>supir</th>\n",
              "      <th>plat_mobil</th>\n",
              "      <th>ket</th>\n",
              "    </tr>\n",
              "  </thead>\n",
              "  <tbody>\n",
              "    <tr>\n",
              "      <th>0</th>\n",
              "      <td>1</td>\n",
              "      <td>2021-01-17</td>\n",
              "      <td>1</td>\n",
              "      <td>2021</td>\n",
              "      <td>nabil11</td>\n",
              "      <td>NABIL</td>\n",
              "      <td>91</td>\n",
              "      <td>0.83</td>\n",
              "      <td>18184</td>\n",
              "      <td>1654744</td>\n",
              "      <td>3</td>\n",
              "      <td>1</td>\n",
              "      <td>1514744</td>\n",
              "      <td>NaN</td>\n",
              "      <td>NaN</td>\n",
              "      <td>2</td>\n",
              "    </tr>\n",
              "    <tr>\n",
              "      <th>1</th>\n",
              "      <td>2</td>\n",
              "      <td>2018-06-15</td>\n",
              "      <td>6</td>\n",
              "      <td>2018</td>\n",
              "      <td>mamamelan13</td>\n",
              "      <td>MAMA MELAN</td>\n",
              "      <td>98</td>\n",
              "      <td>0.39</td>\n",
              "      <td>19128</td>\n",
              "      <td>1874544</td>\n",
              "      <td>5</td>\n",
              "      <td>1</td>\n",
              "      <td>1874544</td>\n",
              "      <td>NaN</td>\n",
              "      <td>NaN</td>\n",
              "      <td>1</td>\n",
              "    </tr>\n",
              "    <tr>\n",
              "      <th>2</th>\n",
              "      <td>3</td>\n",
              "      <td>2020-02-17</td>\n",
              "      <td>2</td>\n",
              "      <td>2020</td>\n",
              "      <td>yus12</td>\n",
              "      <td>YUS</td>\n",
              "      <td>162</td>\n",
              "      <td>0.49</td>\n",
              "      <td>15758</td>\n",
              "      <td>2552796</td>\n",
              "      <td>2</td>\n",
              "      <td>0</td>\n",
              "      <td>2552796</td>\n",
              "      <td>NaN</td>\n",
              "      <td>NaN</td>\n",
              "      <td>1</td>\n",
              "    </tr>\n",
              "    <tr>\n",
              "      <th>3</th>\n",
              "      <td>4</td>\n",
              "      <td>2020-04-09</td>\n",
              "      <td>4</td>\n",
              "      <td>2020</td>\n",
              "      <td>asdar8</td>\n",
              "      <td>ASDAR</td>\n",
              "      <td>52</td>\n",
              "      <td>0.40</td>\n",
              "      <td>17540</td>\n",
              "      <td>912080</td>\n",
              "      <td>0</td>\n",
              "      <td>0</td>\n",
              "      <td>772080</td>\n",
              "      <td>NaN</td>\n",
              "      <td>NaN</td>\n",
              "      <td>2</td>\n",
              "    </tr>\n",
              "    <tr>\n",
              "      <th>4</th>\n",
              "      <td>5</td>\n",
              "      <td>2019-07-06</td>\n",
              "      <td>7</td>\n",
              "      <td>2019</td>\n",
              "      <td>ummu6</td>\n",
              "      <td>UMMU</td>\n",
              "      <td>119</td>\n",
              "      <td>0.45</td>\n",
              "      <td>18792</td>\n",
              "      <td>2236248</td>\n",
              "      <td>1</td>\n",
              "      <td>1</td>\n",
              "      <td>2096248</td>\n",
              "      <td>NaN</td>\n",
              "      <td>NaN</td>\n",
              "      <td>2</td>\n",
              "    </tr>\n",
              "  </tbody>\n",
              "</table>\n",
              "</div>\n",
              "      <button class=\"colab-df-convert\" onclick=\"convertToInteractive('df-8650c89f-24ab-476d-ad45-4501c0453a57')\"\n",
              "              title=\"Convert this dataframe to an interactive table.\"\n",
              "              style=\"display:none;\">\n",
              "        \n",
              "  <svg xmlns=\"http://www.w3.org/2000/svg\" height=\"24px\"viewBox=\"0 0 24 24\"\n",
              "       width=\"24px\">\n",
              "    <path d=\"M0 0h24v24H0V0z\" fill=\"none\"/>\n",
              "    <path d=\"M18.56 5.44l.94 2.06.94-2.06 2.06-.94-2.06-.94-.94-2.06-.94 2.06-2.06.94zm-11 1L8.5 8.5l.94-2.06 2.06-.94-2.06-.94L8.5 2.5l-.94 2.06-2.06.94zm10 10l.94 2.06.94-2.06 2.06-.94-2.06-.94-.94-2.06-.94 2.06-2.06.94z\"/><path d=\"M17.41 7.96l-1.37-1.37c-.4-.4-.92-.59-1.43-.59-.52 0-1.04.2-1.43.59L10.3 9.45l-7.72 7.72c-.78.78-.78 2.05 0 2.83L4 21.41c.39.39.9.59 1.41.59.51 0 1.02-.2 1.41-.59l7.78-7.78 2.81-2.81c.8-.78.8-2.07 0-2.86zM5.41 20L4 18.59l7.72-7.72 1.47 1.35L5.41 20z\"/>\n",
              "  </svg>\n",
              "      </button>\n",
              "      \n",
              "  <style>\n",
              "    .colab-df-container {\n",
              "      display:flex;\n",
              "      flex-wrap:wrap;\n",
              "      gap: 12px;\n",
              "    }\n",
              "\n",
              "    .colab-df-convert {\n",
              "      background-color: #E8F0FE;\n",
              "      border: none;\n",
              "      border-radius: 50%;\n",
              "      cursor: pointer;\n",
              "      display: none;\n",
              "      fill: #1967D2;\n",
              "      height: 32px;\n",
              "      padding: 0 0 0 0;\n",
              "      width: 32px;\n",
              "    }\n",
              "\n",
              "    .colab-df-convert:hover {\n",
              "      background-color: #E2EBFA;\n",
              "      box-shadow: 0px 1px 2px rgba(60, 64, 67, 0.3), 0px 1px 3px 1px rgba(60, 64, 67, 0.15);\n",
              "      fill: #174EA6;\n",
              "    }\n",
              "\n",
              "    [theme=dark] .colab-df-convert {\n",
              "      background-color: #3B4455;\n",
              "      fill: #D2E3FC;\n",
              "    }\n",
              "\n",
              "    [theme=dark] .colab-df-convert:hover {\n",
              "      background-color: #434B5C;\n",
              "      box-shadow: 0px 1px 3px 1px rgba(0, 0, 0, 0.15);\n",
              "      filter: drop-shadow(0px 1px 2px rgba(0, 0, 0, 0.3));\n",
              "      fill: #FFFFFF;\n",
              "    }\n",
              "  </style>\n",
              "\n",
              "      <script>\n",
              "        const buttonEl =\n",
              "          document.querySelector('#df-8650c89f-24ab-476d-ad45-4501c0453a57 button.colab-df-convert');\n",
              "        buttonEl.style.display =\n",
              "          google.colab.kernel.accessAllowed ? 'block' : 'none';\n",
              "\n",
              "        async function convertToInteractive(key) {\n",
              "          const element = document.querySelector('#df-8650c89f-24ab-476d-ad45-4501c0453a57');\n",
              "          const dataTable =\n",
              "            await google.colab.kernel.invokeFunction('convertToInteractive',\n",
              "                                                     [key], {});\n",
              "          if (!dataTable) return;\n",
              "\n",
              "          const docLinkHtml = 'Like what you see? Visit the ' +\n",
              "            '<a target=\"_blank\" href=https://colab.research.google.com/notebooks/data_table.ipynb>data table notebook</a>'\n",
              "            + ' to learn more about interactive tables.';\n",
              "          element.innerHTML = '';\n",
              "          dataTable['output_type'] = 'display_data';\n",
              "          await google.colab.output.renderOutput(dataTable, element);\n",
              "          const docLink = document.createElement('div');\n",
              "          docLink.innerHTML = docLinkHtml;\n",
              "          element.appendChild(docLink);\n",
              "        }\n",
              "      </script>\n",
              "    </div>\n",
              "  </div>\n",
              "  "
            ],
            "text/plain": [
              "   id         tgl  bulan  tahun  ...  bayaran supir  plat_mobil  ket\n",
              "0   1  2021-01-17      1   2021  ...  1514744   NaN         NaN    2\n",
              "1   2  2018-06-15      6   2018  ...  1874544   NaN         NaN    1\n",
              "2   3  2020-02-17      2   2020  ...  2552796   NaN         NaN    1\n",
              "3   4  2020-04-09      4   2020  ...   772080   NaN         NaN    2\n",
              "4   5  2019-07-06      7   2019  ...  2096248   NaN         NaN    2\n",
              "\n",
              "[5 rows x 16 columns]"
            ]
          },
          "metadata": {},
          "execution_count": 32
        }
      ]
    },
    {
      "cell_type": "code",
      "source": [
        "import pandas as pd\n",
        "from sklearn.datasets import load_iris\n",
        "from sklearn.model_selection import train_test_split   "
      ],
      "metadata": {
        "id": "TxlBJvueKtcU"
      },
      "execution_count": 8,
      "outputs": []
    },
    {
      "cell_type": "code",
      "source": [
        "kolom_X = ['nama_perusahaan','jumlah_ayam','harga_unit']\n",
        "kolom_y = ['total_harga']\n",
        "\n",
        "X = df[kolom_X]\n",
        "y = df[kolom_y]\n"
      ],
      "metadata": {
        "id": "m-cOz8mzzmIr"
      },
      "execution_count": 23,
      "outputs": []
    },
    {
      "cell_type": "code",
      "source": [
        "X_train, X_test, y_train, y_test = train_test_split(X,y,test_size=0.2)"
      ],
      "metadata": {
        "id": "sg2vzO_N1W3d"
      },
      "execution_count": 24,
      "outputs": []
    },
    {
      "cell_type": "code",
      "source": [
        "len(X_test)"
      ],
      "metadata": {
        "id": "OQPoa4MJAOTM"
      },
      "execution_count": null,
      "outputs": []
    },
    {
      "cell_type": "code",
      "source": [
        "len(X_train)"
      ],
      "metadata": {
        "id": "ncV7CHZBAwor"
      },
      "execution_count": null,
      "outputs": []
    },
    {
      "cell_type": "code",
      "source": [
        "X_test"
      ],
      "metadata": {
        "id": "nFpXKfxtBX4U"
      },
      "execution_count": null,
      "outputs": []
    },
    {
      "cell_type": "code",
      "source": [
        "X_train"
      ],
      "metadata": {
        "id": "UE3LYsNDBdxj"
      },
      "execution_count": null,
      "outputs": []
    },
    {
      "cell_type": "code",
      "source": [
        "y_test"
      ],
      "metadata": {
        "id": "MZpH70r0CcKV"
      },
      "execution_count": null,
      "outputs": []
    },
    {
      "cell_type": "code",
      "source": [
        "y_train"
      ],
      "metadata": {
        "id": "k_btitlCCf9c"
      },
      "execution_count": null,
      "outputs": []
    }
  ]
}